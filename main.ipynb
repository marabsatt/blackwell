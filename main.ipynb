{
 "cells": [
  {
   "cell_type": "code",
   "execution_count": 710,
   "id": "cfb8e125",
   "metadata": {},
   "outputs": [],
   "source": [
    "import requests\n",
    "from bs4 import BeautifulSoup\n",
    "\n",
    "# import class for financial data\n",
    "import yfinance as yf\n",
    "\n",
    "# import class for data manipulation and analysis\n",
    "import pandas as pd\n",
    "import numpy as np\n",
    "\n",
    "# import class for data visualization\n",
    "import matplotlib.pyplot as plt\n",
    "import seaborn as sns\n",
    "import statsmodels.api as sm\n",
    "\n",
    "#import class for machine learning\n",
    "from sklearn.model_selection import train_test_split\n",
    "from sklearn.linear_model import LinearRegression\n",
    "from statsmodels.regression.rolling import RollingOLS\n",
    "\n",
    "\n",
    "# import class for evaluation metrics\n",
    "from sklearn.metrics import root_mean_squared_error, mean_absolute_error, r2_score\n",
    "\n",
    "# import class for formalized statisitcial tests\n",
    "from statsmodels.regression.linear_model import OLS\n",
    "from statsmodels.tsa.stattools import adfuller, acf, pacf, coint\n",
    "from statsmodels.tsa.arima.model import ARIMA\n",
    "\n",
    "# import class for connection to broker \n",
    "from ib_insync import *\n",
    "import nest_asyncio\n",
    "\n",
    "# import class(s) for supportive functions\n",
    "import datetime as dt\n",
    "from scipy.stats import randint, uniform\n"
   ]
  },
  {
   "cell_type": "code",
   "execution_count": 711,
   "id": "0230910a",
   "metadata": {},
   "outputs": [
    {
     "name": "stderr",
     "output_type": "stream",
     "text": [
      "/var/folders/dl/q12jywhx4svgdkc33pp48gq80000gn/T/ipykernel_52702/2269021368.py:8: FutureWarning: Passing literal html to 'read_html' is deprecated and will be removed in a future version. To read from a literal string, wrap it in a 'StringIO' object.\n",
      "  df = pd.read_html(str(data))[0]\n"
     ]
    },
    {
     "data": {
      "application/vnd.microsoft.datawrangler.viewer.v0+json": {
       "columns": [
        {
         "name": "index",
         "rawType": "int64",
         "type": "integer"
        },
        {
         "name": "Symbol",
         "rawType": "object",
         "type": "string"
        },
        {
         "name": "Security",
         "rawType": "object",
         "type": "string"
        },
        {
         "name": "GICS Sector",
         "rawType": "object",
         "type": "string"
        },
        {
         "name": "GICS Sub-Industry",
         "rawType": "object",
         "type": "string"
        },
        {
         "name": "Headquarters Location",
         "rawType": "object",
         "type": "string"
        },
        {
         "name": "Date added",
         "rawType": "object",
         "type": "string"
        },
        {
         "name": "CIK",
         "rawType": "int64",
         "type": "integer"
        },
        {
         "name": "Founded",
         "rawType": "object",
         "type": "string"
        }
       ],
       "ref": "33c67d02-7da9-4e0e-b94a-727fe8d183db",
       "rows": [
        [
         "0",
         "MMM",
         "3M",
         "Industrials",
         "Industrial Conglomerates",
         "Saint Paul, Minnesota",
         "1957-03-04",
         "66740",
         "1902"
        ],
        [
         "1",
         "AOS",
         "A. O. Smith",
         "Industrials",
         "Building Products",
         "Milwaukee, Wisconsin",
         "2017-07-26",
         "91142",
         "1916"
        ],
        [
         "2",
         "ABT",
         "Abbott Laboratories",
         "Health Care",
         "Health Care Equipment",
         "North Chicago, Illinois",
         "1957-03-04",
         "1800",
         "1888"
        ],
        [
         "3",
         "ABBV",
         "AbbVie",
         "Health Care",
         "Biotechnology",
         "North Chicago, Illinois",
         "2012-12-31",
         "1551152",
         "2013 (1888)"
        ],
        [
         "4",
         "ACN",
         "Accenture",
         "Information Technology",
         "IT Consulting & Other Services",
         "Dublin, Ireland",
         "2011-07-06",
         "1467373",
         "1989"
        ]
       ],
       "shape": {
        "columns": 8,
        "rows": 5
       }
      },
      "text/html": [
       "<div>\n",
       "<style scoped>\n",
       "    .dataframe tbody tr th:only-of-type {\n",
       "        vertical-align: middle;\n",
       "    }\n",
       "\n",
       "    .dataframe tbody tr th {\n",
       "        vertical-align: top;\n",
       "    }\n",
       "\n",
       "    .dataframe thead th {\n",
       "        text-align: right;\n",
       "    }\n",
       "</style>\n",
       "<table border=\"1\" class=\"dataframe\">\n",
       "  <thead>\n",
       "    <tr style=\"text-align: right;\">\n",
       "      <th></th>\n",
       "      <th>Symbol</th>\n",
       "      <th>Security</th>\n",
       "      <th>GICS Sector</th>\n",
       "      <th>GICS Sub-Industry</th>\n",
       "      <th>Headquarters Location</th>\n",
       "      <th>Date added</th>\n",
       "      <th>CIK</th>\n",
       "      <th>Founded</th>\n",
       "    </tr>\n",
       "  </thead>\n",
       "  <tbody>\n",
       "    <tr>\n",
       "      <th>0</th>\n",
       "      <td>MMM</td>\n",
       "      <td>3M</td>\n",
       "      <td>Industrials</td>\n",
       "      <td>Industrial Conglomerates</td>\n",
       "      <td>Saint Paul, Minnesota</td>\n",
       "      <td>1957-03-04</td>\n",
       "      <td>66740</td>\n",
       "      <td>1902</td>\n",
       "    </tr>\n",
       "    <tr>\n",
       "      <th>1</th>\n",
       "      <td>AOS</td>\n",
       "      <td>A. O. Smith</td>\n",
       "      <td>Industrials</td>\n",
       "      <td>Building Products</td>\n",
       "      <td>Milwaukee, Wisconsin</td>\n",
       "      <td>2017-07-26</td>\n",
       "      <td>91142</td>\n",
       "      <td>1916</td>\n",
       "    </tr>\n",
       "    <tr>\n",
       "      <th>2</th>\n",
       "      <td>ABT</td>\n",
       "      <td>Abbott Laboratories</td>\n",
       "      <td>Health Care</td>\n",
       "      <td>Health Care Equipment</td>\n",
       "      <td>North Chicago, Illinois</td>\n",
       "      <td>1957-03-04</td>\n",
       "      <td>1800</td>\n",
       "      <td>1888</td>\n",
       "    </tr>\n",
       "    <tr>\n",
       "      <th>3</th>\n",
       "      <td>ABBV</td>\n",
       "      <td>AbbVie</td>\n",
       "      <td>Health Care</td>\n",
       "      <td>Biotechnology</td>\n",
       "      <td>North Chicago, Illinois</td>\n",
       "      <td>2012-12-31</td>\n",
       "      <td>1551152</td>\n",
       "      <td>2013 (1888)</td>\n",
       "    </tr>\n",
       "    <tr>\n",
       "      <th>4</th>\n",
       "      <td>ACN</td>\n",
       "      <td>Accenture</td>\n",
       "      <td>Information Technology</td>\n",
       "      <td>IT Consulting &amp; Other Services</td>\n",
       "      <td>Dublin, Ireland</td>\n",
       "      <td>2011-07-06</td>\n",
       "      <td>1467373</td>\n",
       "      <td>1989</td>\n",
       "    </tr>\n",
       "  </tbody>\n",
       "</table>\n",
       "</div>"
      ],
      "text/plain": [
       "  Symbol             Security  ...      CIK      Founded\n",
       "0    MMM                   3M  ...    66740         1902\n",
       "1    AOS          A. O. Smith  ...    91142         1916\n",
       "2    ABT  Abbott Laboratories  ...     1800         1888\n",
       "3   ABBV               AbbVie  ...  1551152  2013 (1888)\n",
       "4    ACN            Accenture  ...  1467373         1989\n",
       "\n",
       "[5 rows x 8 columns]"
      ]
     },
     "execution_count": 711,
     "metadata": {},
     "output_type": "execute_result"
    }
   ],
   "source": [
    "url = 'https://en.wikipedia.org/wiki/List_of_S%26P_500_companies'\n",
    "\n",
    "r = requests.get(url)\n",
    "data = r.text\n",
    "soup = BeautifulSoup(data, 'html.parser')\n",
    "data = soup.find('table')\n",
    "\n",
    "df = pd.read_html(str(data))[0]\n",
    "df.head()\n"
   ]
  },
  {
   "cell_type": "code",
   "execution_count": 712,
   "id": "45ea8259",
   "metadata": {},
   "outputs": [
    {
     "data": {
      "application/vnd.microsoft.datawrangler.viewer.v0+json": {
       "columns": [
        {
         "name": "index",
         "rawType": "int64",
         "type": "integer"
        },
        {
         "name": "Symbol",
         "rawType": "object",
         "type": "string"
        },
        {
         "name": "Security",
         "rawType": "object",
         "type": "string"
        },
        {
         "name": "GICS Sector",
         "rawType": "object",
         "type": "string"
        },
        {
         "name": "GICS Sub-Industry",
         "rawType": "object",
         "type": "string"
        },
        {
         "name": "Headquarters Location",
         "rawType": "object",
         "type": "string"
        },
        {
         "name": "Date added",
         "rawType": "object",
         "type": "string"
        },
        {
         "name": "CIK",
         "rawType": "int64",
         "type": "integer"
        },
        {
         "name": "Founded",
         "rawType": "object",
         "type": "string"
        }
       ],
       "ref": "342c26f8-b3ce-4c71-8f34-c9950f85dddb",
       "rows": [
        [
         "6",
         "AMD",
         "Advanced Micro Devices",
         "Information Technology",
         "Semiconductors",
         "Santa Clara, California",
         "2017-03-20",
         "2488",
         "1969"
        ],
        [
         "34",
         "ADI",
         "Analog Devices",
         "Information Technology",
         "Semiconductors",
         "Wilmington, Massachusetts",
         "1999-10-12",
         "6281",
         "1965"
        ],
        [
         "71",
         "AVGO",
         "Broadcom",
         "Information Technology",
         "Semiconductors",
         "Palo Alto, California",
         "2014-05-08",
         "1730168",
         "1961"
        ],
        [
         "195",
         "FSLR",
         "First Solar",
         "Information Technology",
         "Semiconductors",
         "Tempe, Arizona",
         "2022-12-19",
         "1274494",
         "1999"
        ],
        [
         "249",
         "INTC",
         "Intel",
         "Information Technology",
         "Semiconductors",
         "Santa Clara, California",
         "1976-12-31",
         "50863",
         "1968"
        ],
        [
         "315",
         "MCHP",
         "Microchip Technology",
         "Information Technology",
         "Semiconductors",
         "Chandler, Arizona",
         "2007-09-07",
         "827054",
         "1989"
        ],
        [
         "316",
         "MU",
         "Micron Technology",
         "Information Technology",
         "Semiconductors",
         "Boise, Idaho",
         "1994-09-27",
         "723125",
         "1978"
        ],
        [
         "324",
         "MPWR",
         "Monolithic Power Systems",
         "Information Technology",
         "Semiconductors",
         "Kirkland, Washington",
         "2021-02-12",
         "1280452",
         "1997"
        ],
        [
         "347",
         "NVDA",
         "Nvidia",
         "Information Technology",
         "Semiconductors",
         "Santa Clara, California",
         "2001-11-30",
         "1045810",
         "1993"
        ],
        [
         "349",
         "NXPI",
         "NXP Semiconductors",
         "Information Technology",
         "Semiconductors",
         "Eindhoven, Netherlands",
         "2021-03-22",
         "1413447",
         "1953"
        ],
        [
         "354",
         "ON",
         "ON Semiconductor",
         "Information Technology",
         "Semiconductors",
         "Phoenix, Arizona",
         "2022-06-21",
         "1097864",
         "1999"
        ],
        [
         "388",
         "QCOM",
         "Qualcomm",
         "Information Technology",
         "Semiconductors",
         "San Diego, California",
         "1999-07-22",
         "804328",
         "1985"
        ],
        [
         "414",
         "SWKS",
         "Skyworks Solutions",
         "Information Technology",
         "Semiconductors",
         "Irvine, California",
         "2015-03-12",
         "4127",
         "2002"
        ],
        [
         "441",
         "TXN",
         "Texas Instruments",
         "Information Technology",
         "Semiconductors",
         "Dallas, Texas",
         "2001-03-12",
         "97476",
         "1930"
        ]
       ],
       "shape": {
        "columns": 8,
        "rows": 14
       }
      },
      "text/html": [
       "<div>\n",
       "<style scoped>\n",
       "    .dataframe tbody tr th:only-of-type {\n",
       "        vertical-align: middle;\n",
       "    }\n",
       "\n",
       "    .dataframe tbody tr th {\n",
       "        vertical-align: top;\n",
       "    }\n",
       "\n",
       "    .dataframe thead th {\n",
       "        text-align: right;\n",
       "    }\n",
       "</style>\n",
       "<table border=\"1\" class=\"dataframe\">\n",
       "  <thead>\n",
       "    <tr style=\"text-align: right;\">\n",
       "      <th></th>\n",
       "      <th>Symbol</th>\n",
       "      <th>Security</th>\n",
       "      <th>GICS Sector</th>\n",
       "      <th>GICS Sub-Industry</th>\n",
       "      <th>Headquarters Location</th>\n",
       "      <th>Date added</th>\n",
       "      <th>CIK</th>\n",
       "      <th>Founded</th>\n",
       "    </tr>\n",
       "  </thead>\n",
       "  <tbody>\n",
       "    <tr>\n",
       "      <th>6</th>\n",
       "      <td>AMD</td>\n",
       "      <td>Advanced Micro Devices</td>\n",
       "      <td>Information Technology</td>\n",
       "      <td>Semiconductors</td>\n",
       "      <td>Santa Clara, California</td>\n",
       "      <td>2017-03-20</td>\n",
       "      <td>2488</td>\n",
       "      <td>1969</td>\n",
       "    </tr>\n",
       "    <tr>\n",
       "      <th>34</th>\n",
       "      <td>ADI</td>\n",
       "      <td>Analog Devices</td>\n",
       "      <td>Information Technology</td>\n",
       "      <td>Semiconductors</td>\n",
       "      <td>Wilmington, Massachusetts</td>\n",
       "      <td>1999-10-12</td>\n",
       "      <td>6281</td>\n",
       "      <td>1965</td>\n",
       "    </tr>\n",
       "    <tr>\n",
       "      <th>71</th>\n",
       "      <td>AVGO</td>\n",
       "      <td>Broadcom</td>\n",
       "      <td>Information Technology</td>\n",
       "      <td>Semiconductors</td>\n",
       "      <td>Palo Alto, California</td>\n",
       "      <td>2014-05-08</td>\n",
       "      <td>1730168</td>\n",
       "      <td>1961</td>\n",
       "    </tr>\n",
       "    <tr>\n",
       "      <th>195</th>\n",
       "      <td>FSLR</td>\n",
       "      <td>First Solar</td>\n",
       "      <td>Information Technology</td>\n",
       "      <td>Semiconductors</td>\n",
       "      <td>Tempe, Arizona</td>\n",
       "      <td>2022-12-19</td>\n",
       "      <td>1274494</td>\n",
       "      <td>1999</td>\n",
       "    </tr>\n",
       "    <tr>\n",
       "      <th>249</th>\n",
       "      <td>INTC</td>\n",
       "      <td>Intel</td>\n",
       "      <td>Information Technology</td>\n",
       "      <td>Semiconductors</td>\n",
       "      <td>Santa Clara, California</td>\n",
       "      <td>1976-12-31</td>\n",
       "      <td>50863</td>\n",
       "      <td>1968</td>\n",
       "    </tr>\n",
       "    <tr>\n",
       "      <th>315</th>\n",
       "      <td>MCHP</td>\n",
       "      <td>Microchip Technology</td>\n",
       "      <td>Information Technology</td>\n",
       "      <td>Semiconductors</td>\n",
       "      <td>Chandler, Arizona</td>\n",
       "      <td>2007-09-07</td>\n",
       "      <td>827054</td>\n",
       "      <td>1989</td>\n",
       "    </tr>\n",
       "    <tr>\n",
       "      <th>316</th>\n",
       "      <td>MU</td>\n",
       "      <td>Micron Technology</td>\n",
       "      <td>Information Technology</td>\n",
       "      <td>Semiconductors</td>\n",
       "      <td>Boise, Idaho</td>\n",
       "      <td>1994-09-27</td>\n",
       "      <td>723125</td>\n",
       "      <td>1978</td>\n",
       "    </tr>\n",
       "    <tr>\n",
       "      <th>324</th>\n",
       "      <td>MPWR</td>\n",
       "      <td>Monolithic Power Systems</td>\n",
       "      <td>Information Technology</td>\n",
       "      <td>Semiconductors</td>\n",
       "      <td>Kirkland, Washington</td>\n",
       "      <td>2021-02-12</td>\n",
       "      <td>1280452</td>\n",
       "      <td>1997</td>\n",
       "    </tr>\n",
       "    <tr>\n",
       "      <th>347</th>\n",
       "      <td>NVDA</td>\n",
       "      <td>Nvidia</td>\n",
       "      <td>Information Technology</td>\n",
       "      <td>Semiconductors</td>\n",
       "      <td>Santa Clara, California</td>\n",
       "      <td>2001-11-30</td>\n",
       "      <td>1045810</td>\n",
       "      <td>1993</td>\n",
       "    </tr>\n",
       "    <tr>\n",
       "      <th>349</th>\n",
       "      <td>NXPI</td>\n",
       "      <td>NXP Semiconductors</td>\n",
       "      <td>Information Technology</td>\n",
       "      <td>Semiconductors</td>\n",
       "      <td>Eindhoven, Netherlands</td>\n",
       "      <td>2021-03-22</td>\n",
       "      <td>1413447</td>\n",
       "      <td>1953</td>\n",
       "    </tr>\n",
       "    <tr>\n",
       "      <th>354</th>\n",
       "      <td>ON</td>\n",
       "      <td>ON Semiconductor</td>\n",
       "      <td>Information Technology</td>\n",
       "      <td>Semiconductors</td>\n",
       "      <td>Phoenix, Arizona</td>\n",
       "      <td>2022-06-21</td>\n",
       "      <td>1097864</td>\n",
       "      <td>1999</td>\n",
       "    </tr>\n",
       "    <tr>\n",
       "      <th>388</th>\n",
       "      <td>QCOM</td>\n",
       "      <td>Qualcomm</td>\n",
       "      <td>Information Technology</td>\n",
       "      <td>Semiconductors</td>\n",
       "      <td>San Diego, California</td>\n",
       "      <td>1999-07-22</td>\n",
       "      <td>804328</td>\n",
       "      <td>1985</td>\n",
       "    </tr>\n",
       "    <tr>\n",
       "      <th>414</th>\n",
       "      <td>SWKS</td>\n",
       "      <td>Skyworks Solutions</td>\n",
       "      <td>Information Technology</td>\n",
       "      <td>Semiconductors</td>\n",
       "      <td>Irvine, California</td>\n",
       "      <td>2015-03-12</td>\n",
       "      <td>4127</td>\n",
       "      <td>2002</td>\n",
       "    </tr>\n",
       "    <tr>\n",
       "      <th>441</th>\n",
       "      <td>TXN</td>\n",
       "      <td>Texas Instruments</td>\n",
       "      <td>Information Technology</td>\n",
       "      <td>Semiconductors</td>\n",
       "      <td>Dallas, Texas</td>\n",
       "      <td>2001-03-12</td>\n",
       "      <td>97476</td>\n",
       "      <td>1930</td>\n",
       "    </tr>\n",
       "  </tbody>\n",
       "</table>\n",
       "</div>"
      ],
      "text/plain": [
       "    Symbol                  Security  ...      CIK Founded\n",
       "6      AMD    Advanced Micro Devices  ...     2488    1969\n",
       "34     ADI            Analog Devices  ...     6281    1965\n",
       "71    AVGO                  Broadcom  ...  1730168    1961\n",
       "195   FSLR               First Solar  ...  1274494    1999\n",
       "249   INTC                     Intel  ...    50863    1968\n",
       "315   MCHP      Microchip Technology  ...   827054    1989\n",
       "316     MU         Micron Technology  ...   723125    1978\n",
       "324   MPWR  Monolithic Power Systems  ...  1280452    1997\n",
       "347   NVDA                    Nvidia  ...  1045810    1993\n",
       "349   NXPI        NXP Semiconductors  ...  1413447    1953\n",
       "354     ON          ON Semiconductor  ...  1097864    1999\n",
       "388   QCOM                  Qualcomm  ...   804328    1985\n",
       "414   SWKS        Skyworks Solutions  ...     4127    2002\n",
       "441    TXN         Texas Instruments  ...    97476    1930\n",
       "\n",
       "[14 rows x 8 columns]"
      ]
     },
     "execution_count": 712,
     "metadata": {},
     "output_type": "execute_result"
    }
   ],
   "source": [
    "df[df['GICS Sub-Industry'] == 'Semiconductors']"
   ]
  },
  {
   "cell_type": "code",
   "execution_count": 713,
   "id": "dff824d0",
   "metadata": {},
   "outputs": [
    {
     "data": {
      "text/plain": [
       "['AMD',\n",
       " 'ADI',\n",
       " 'AVGO',\n",
       " 'FSLR',\n",
       " 'INTC',\n",
       " 'MCHP',\n",
       " 'MU',\n",
       " 'MPWR',\n",
       " 'NVDA',\n",
       " 'NXPI',\n",
       " 'ON',\n",
       " 'QCOM',\n",
       " 'SWKS',\n",
       " 'TXN']"
      ]
     },
     "execution_count": 713,
     "metadata": {},
     "output_type": "execute_result"
    }
   ],
   "source": [
    "tickers_list = df[df['GICS Sub-Industry'] == 'Semiconductors']['Symbol'].tolist()\n",
    "tickers_list"
   ]
  },
  {
   "cell_type": "code",
   "execution_count": 714,
   "id": "28510bdd",
   "metadata": {},
   "outputs": [
    {
     "name": "stderr",
     "output_type": "stream",
     "text": [
      "[*********************100%***********************]  14 of 14 completed\n"
     ]
    },
    {
     "data": {
      "application/vnd.microsoft.datawrangler.viewer.v0+json": {
       "columns": [
        {
         "name": "Date",
         "rawType": "datetime64[ns]",
         "type": "datetime"
        },
        {
         "name": "ADI",
         "rawType": "float64",
         "type": "float"
        },
        {
         "name": "AMD",
         "rawType": "float64",
         "type": "float"
        },
        {
         "name": "AVGO",
         "rawType": "float64",
         "type": "float"
        },
        {
         "name": "FSLR",
         "rawType": "float64",
         "type": "float"
        },
        {
         "name": "INTC",
         "rawType": "float64",
         "type": "float"
        },
        {
         "name": "MCHP",
         "rawType": "float64",
         "type": "float"
        },
        {
         "name": "MPWR",
         "rawType": "float64",
         "type": "float"
        },
        {
         "name": "MU",
         "rawType": "float64",
         "type": "float"
        },
        {
         "name": "NVDA",
         "rawType": "float64",
         "type": "float"
        },
        {
         "name": "NXPI",
         "rawType": "float64",
         "type": "float"
        },
        {
         "name": "ON",
         "rawType": "float64",
         "type": "float"
        },
        {
         "name": "QCOM",
         "rawType": "float64",
         "type": "float"
        },
        {
         "name": "SWKS",
         "rawType": "float64",
         "type": "float"
        },
        {
         "name": "TXN",
         "rawType": "float64",
         "type": "float"
        }
       ],
       "ref": "355b8108-ad03-420e-bc5c-b4dd8b65a4f4",
       "rows": [
        [
         "2020-01-02 00:00:00",
         "108.94022369384766",
         "49.099998474121094",
         "27.901752471923828",
         "57.2400016784668",
         "53.666465759277344",
         "48.74809646606445",
         "173.08897399902344",
         "54.150455474853516",
         "5.971747398376465",
         "117.86235809326172",
         "25.059999465942383",
         "78.48725128173828",
         "107.5411605834961",
         "110.96699523925781"
        ],
        [
         "2020-01-03 00:00:00",
         "107.0224838256836",
         "48.599998474121094",
         "27.192073822021484",
         "57.02000045776367",
         "53.01372146606445",
         "47.678897857666016",
         "169.95431518554688",
         "53.3097038269043",
         "5.876163005828857",
         "116.72537231445312",
         "24.690000534057617",
         "77.00935363769531",
         "104.87186431884766",
         "109.49392700195312"
        ],
        [
         "2020-01-06 00:00:00",
         "105.76509857177734",
         "48.38999938964844",
         "27.15138816833496",
         "55.83000183105469",
         "52.863765716552734",
         "46.994808197021484",
         "168.21389770507812",
         "52.371192932128906",
         "5.900805473327637",
         "115.90013122558594",
         "24.06999969482422",
         "76.55804443359375",
         "103.02452850341797",
         "108.73170471191406"
        ],
        [
         "2020-01-07 00:00:00",
         "108.17131805419922",
         "48.25",
         "27.05792236328125",
         "56.66999816894531",
         "51.98167419433594",
         "50.148014068603516",
         "169.78125",
         "56.96601104736328",
         "5.972243785858154",
         "117.4039077758789",
         "24.65999984741211",
         "78.73504638671875",
         "104.00566864013672",
         "110.8299560546875"
        ],
        [
         "2020-01-08 00:00:00",
         "109.14828491210938",
         "47.83000183105469",
         "26.720388412475586",
         "56.70000076293945",
         "52.01695251464844",
         "49.51375198364258",
         "169.56008911132812",
         "56.23279571533203",
         "5.983445167541504",
         "117.69732666015625",
         "24.81999969482422",
         "78.50495147705078",
         "105.65848541259766",
         "111.12969207763672"
        ],
        [
         "2020-01-09 00:00:00",
         "109.14828491210938",
         "48.970001220703125",
         "26.505760192871094",
         "56.70000076293945",
         "52.30804443359375",
         "49.98038864135742",
         "171.8485870361328",
         "56.02750015258789",
         "6.049159049987793",
         "118.4491958618164",
         "24.860000610351562",
         "79.56690979003906",
         "105.75572204589844",
         "112.47429656982422"
        ],
        [
         "2020-01-10 00:00:00",
         "107.25768280029297",
         "48.16999816894531",
         "25.89647102355957",
         "56.5",
         "51.9904899597168",
         "50.211448669433594",
         "170.06971740722656",
         "55.40182113647461",
         "6.081518650054932",
         "118.8709945678711",
         "24.579999923706055",
         "79.87665557861328",
         "106.13578033447266",
         "111.33524322509766"
        ],
        [
         "2020-01-13 00:00:00",
         "107.700927734375",
         "48.75",
         "26.066102981567383",
         "57.439998626708984",
         "52.56385040283203",
         "50.383609771728516",
         "172.41590881347656",
         "56.16436004638672",
         "6.272188663482666",
         "121.01663208007812",
         "25.31999969482422",
         "80.50496673583984",
         "110.0513687133789",
         "111.29239654541016"
        ],
        [
         "2020-01-14 00:00:00",
         "108.12609100341797",
         "48.209999084472656",
         "26.671926498413086",
         "58.779998779296875",
         "52.42271423339844",
         "49.88978958129883",
         "172.05047607421875",
         "56.23279571533203",
         "6.15519905090332",
         "121.68598937988281",
         "25.6200008392334",
         "80.14212799072266",
         "109.01722717285156",
         "111.9090347290039"
        ],
        [
         "2020-01-15 00:00:00",
         "106.29882049560547",
         "48.54999923706055",
         "26.235727310180664",
         "54.75",
         "51.9904899597168",
         "48.739036560058594",
         "171.27163696289062",
         "54.91300964355469",
         "6.112633228302002",
         "121.49342346191406",
         "24.8799991607666",
         "79.35452270507812",
         "106.43630981445312",
         "110.62442016601562"
        ],
        [
         "2020-01-16 00:00:00",
         "107.7642593383789",
         "49.77000045776367",
         "26.57412338256836",
         "53.93000030517578",
         "52.6255989074707",
         "49.300819396972656",
         "173.40631103515625",
         "56.38922119140625",
         "6.1962690353393555",
         "123.03387451171875",
         "25.030000686645508",
         "81.23063659667969",
         "108.79625701904297",
         "111.47227478027344"
        ],
        [
         "2020-01-17 00:00:00",
         "108.07181549072266",
         "50.93000030517578",
         "26.724720001220703",
         "53.52000045776367",
         "52.572669982910156",
         "49.56812286376953",
         "174.62747192382812",
         "56.369659423828125",
         "6.204980850219727",
         "122.72212219238281",
         "25.0",
         "84.87667846679688",
         "109.75083923339844",
         "112.7911605834961"
        ],
        [
         "2020-01-21 00:00:00",
         "107.9271011352539",
         "51.04999923706055",
         "26.662403106689453",
         "51.54999923706055",
         "53.41065979003906",
         "49.49109649658203",
         "175.17555236816406",
         "57.65034866333008",
         "6.171626091003418",
         "122.8321304321289",
         "24.790000915527344",
         "83.66429138183594",
         "109.42383575439453",
         "112.0717544555664"
        ],
        [
         "2020-01-22 00:00:00",
         "108.93118286132812",
         "51.43000030517578",
         "27.086484909057617",
         "50.560001373291016",
         "55.3336181640625",
         "49.54093551635742",
         "174.7043914794922",
         "57.845863342285156",
         "6.22564172744751",
         "123.45564270019531",
         "24.799999237060547",
         "82.27487182617188",
         "110.44910430908203",
         "114.19569396972656"
        ],
        [
         "2020-01-23 00:00:00",
         "109.32917785644531",
         "51.709999084472656",
         "27.66461753845215",
         "52.02000045776367",
         "55.85405349731445",
         "49.95322036743164",
         "175.99290466308594",
         "57.87520217895508",
         "6.294092655181885",
         "125.0786361694336",
         "25.469999313354492",
         "81.4164810180664",
         "113.30403137207031",
         "114.97502899169922"
        ],
        [
         "2020-01-24 00:00:00",
         "106.35308837890625",
         "50.349998474121094",
         "28.04109001159668",
         "51.939998626708984",
         "60.396820068359375",
         "48.57594299316406",
         "176.24285888671875",
         "56.4674186706543",
         "6.234850883483887",
         "124.0425033569336",
         "24.989999771118164",
         "79.33682250976562",
         "108.10684967041016",
         "111.78057861328125"
        ],
        [
         "2020-01-27 00:00:00",
         "101.50446319580078",
         "49.2599983215332",
         "26.74549102783203",
         "50.4900016784668",
         "57.94461441040039",
         "46.65502166748047",
         "169.28123474121094",
         "54.170013427734375",
         "5.9789652824401855",
         "119.61371612548828",
         "23.65999984741211",
         "77.03593444824219",
         "103.30738830566406",
         "108.1750259399414"
        ],
        [
         "2020-01-28 00:00:00",
         "103.40412902832031",
         "50.529998779296875",
         "27.54864501953125",
         "51.11000061035156",
         "59.373592376708984",
         "47.207733154296875",
         "173.3485870361328",
         "55.20629119873047",
         "6.172372817993164",
         "121.6584701538086",
         "24.170000076293945",
         "78.89434814453125",
         "105.87947845458984",
         "109.6566390991211"
        ],
        [
         "2020-01-29 00:00:00",
         "102.42715454101562",
         "47.5099983215332",
         "27.479402542114258",
         "50.900001525878906",
         "58.5091552734375",
         "46.41942596435547",
         "170.67552185058594",
         "54.06248092651367",
         "6.111887454986572",
         "121.64012145996094",
         "23.8799991607666",
         "78.0801773071289",
         "104.20011138916016",
         "107.47277069091797"
        ],
        [
         "2020-01-30 00:00:00",
         "101.6491928100586",
         "48.779998779296875",
         "27.279483795166016",
         "50.720001220703125",
         "58.63265609741211",
         "46.011680603027344",
         "171.63702392578125",
         "53.79851531982422",
         "6.118607521057129",
         "120.68650817871094",
         "23.940000534057617",
         "77.68195343017578",
         "102.73286437988281",
         "107.32612609863281"
        ],
        [
         "2020-01-31 00:00:00",
         "99.27916717529297",
         "47.0",
         "26.410554885864258",
         "49.58000183105469",
         "56.39213180541992",
         "44.163246154785156",
         "164.58883666992188",
         "51.90192794799805",
         "5.8851237297058105",
         "116.3219223022461",
         "23.149999618530273",
         "75.4960708618164",
         "100.01054382324219",
         "104.0740737915039"
        ],
        [
         "2020-02-03 00:00:00",
         "99.50531768798828",
         "48.02000045776367",
         "26.416614532470703",
         "50.2400016784668",
         "56.82435989379883",
         "44.19496154785156",
         "168.47352600097656",
         "52.57649612426758",
         "5.98220157623291",
         "115.25828552246094",
         "19.90999984741211",
         "76.5315170288086",
         "101.67222595214844",
         "106.44627380371094"
        ],
        [
         "2020-02-04 00:00:00",
         "101.73062133789062",
         "49.45000076293945",
         "26.967914581298828",
         "52.66999816894531",
         "57.74173355102539",
         "46.07963943481445",
         "175.59860229492188",
         "54.25799560546875",
         "6.151463508605957",
         "119.66873168945312",
         "19.81999969482422",
         "78.69966125488281",
         "104.26197814941406",
         "109.09449005126953"
        ],
        [
         "2020-02-05 00:00:00",
         "105.54801940917969",
         "49.84000015258789",
         "27.46815299987793",
         "53.099998474121094",
         "59.40007019042969",
         "49.16038131713867",
         "179.8005828857422",
         "55.499576568603516",
         "6.241820812225342",
         "123.07970428466797",
         "21.149999618530273",
         "80.4518814086914",
         "105.74689483642578",
         "114.24429321289062"
        ],
        [
         "2020-02-06 00:00:00",
         "104.74292755126953",
         "49.31999969482422",
         "27.668075561523438",
         "52.650001525878906",
         "59.47097396850586",
         "49.14677810668945",
         "174.86785888671875",
         "57.3668327331543",
         "6.32869291305542",
         "124.0975341796875",
         "20.90999984741211",
         "80.18638610839844",
         "104.01448059082031",
         "114.31327819824219"
        ],
        [
         "2020-02-07 00:00:00",
         "101.5587387084961",
         "49.72999954223633",
         "27.282073974609375",
         "52.459999084472656",
         "58.52249526977539",
         "48.11835861206055",
         "173.2812957763672",
         "55.60712432861328",
         "6.262479782104492",
         "121.2733383178711",
         "20.450000762939453",
         "77.36333465576172",
         "100.70880126953125",
         "111.0180892944336"
        ],
        [
         "2020-02-10 00:00:00",
         "102.12862396240234",
         "52.2599983215332",
         "27.192934036254883",
         "52.75",
         "58.8504753112793",
         "48.99727249145508",
         "177.1082763671875",
         "56.04704284667969",
         "6.54574728012085",
         "122.1261215209961",
         "20.540000915527344",
         "78.40760803222656",
         "103.17549133300781",
         "111.83757019042969"
        ],
        [
         "2020-02-11 00:00:00",
         "105.72891235351562",
         "53.79999923706055",
         "27.708755493164062",
         "53.529998779296875",
         "59.754634857177734",
         "49.318946838378906",
         "182.2333221435547",
         "55.96883773803711",
         "6.668213367462158",
         "124.26252746582031",
         "21.399999618530273",
         "79.64655303955078",
         "105.73979187011719",
         "112.74332427978516"
        ],
        [
         "2020-02-12 00:00:00",
         "107.47479248046875",
         "53.88999938964844",
         "28.101675033569336",
         "56.119998931884766",
         "59.79896545410156",
         "49.699501037597656",
         "183.39682006835938",
         "57.943634033203125",
         "6.783960819244385",
         "126.38068389892578",
         "21.389999389648438",
         "81.16868591308594",
         "109.18252563476562",
         "114.22702026367188"
        ],
        [
         "2020-02-13 00:00:00",
         "107.5380859375",
         "54.529998779296875",
         "28.038496017456055",
         "54.61000061035156",
         "59.78123474121094",
         "50.00303649902344",
         "184.06993103027344",
         "58.00229263305664",
         "6.740151405334473",
         "127.16921997070312",
         "21.6299991607666",
         "79.67310333251953",
         "108.77434539794922",
         "114.56343841552734"
        ],
        [
         "2020-02-14 00:00:00",
         "106.42545318603516",
         "55.310001373291016",
         "27.50190544128418",
         "55.2599983215332",
         "59.63051986694336",
         "49.54547119140625",
         "183.83909606933594",
         "57.19087219238281",
         "7.213339328765869",
         "125.69294738769531",
         "21.440000534057617",
         "79.2925796508789",
         "105.58009338378906",
         "114.0458755493164"
        ],
        [
         "2020-02-18 00:00:00",
         "107.25768280029297",
         "56.88999938964844",
         "26.89434814453125",
         "55.650001525878906",
         "58.62885665893555",
         "48.4581413269043",
         "178.20445251464844",
         "56.45764923095703",
         "7.382105350494385",
         "122.7496109008789",
         "21.110000610351562",
         "77.9031753540039",
         "103.61027526855469",
         "113.20912170410156"
        ],
        [
         "2020-02-19 00:00:00",
         "112.07011413574219",
         "58.900001525878906",
         "27.32188606262207",
         "57.369998931884766",
         "59.48870086669922",
         "49.753868103027344",
         "180.2525634765625",
         "58.64752960205078",
         "7.833391189575195",
         "123.73989868164062",
         "20.899999618530273",
         "80.14212799072266",
         "105.71317291259766",
         "114.83946990966797"
        ],
        [
         "2020-02-20 00:00:00",
         "112.66715240478516",
         "57.27000045776367",
         "26.76366424560547",
         "59.31999969482422",
         "58.017215728759766",
         "49.152469635009766",
         "176.9832763671875",
         "57.67967987060547",
         "7.68403959274292",
         "123.60237884521484",
         "20.600000381469727",
         "79.17752075195312",
         "104.25800323486328",
         "113.40754699707031"
        ],
        [
         "2020-02-21 00:00:00",
         "111.04793548583984",
         "53.279998779296875",
         "26.353435516357422",
         "50.59000015258789",
         "57.03327941894531",
         "47.76604080200195",
         "169.8389434814453",
         "55.71466064453125",
         "7.319875717163086",
         "119.6595458984375",
         "20.020000457763672",
         "77.01821899414062",
         "101.7114486694336",
         "110.86282348632812"
        ],
        [
         "2020-02-24 00:00:00",
         "106.16313171386719",
         "49.119998931884766",
         "25.236982345581055",
         "51.209999084472656",
         "54.74628448486328",
         "45.51593017578125",
         "159.49266052246094",
         "53.77895736694336",
         "6.802379608154297",
         "113.7361831665039",
         "19.350000381469727",
         "73.73499298095703",
         "98.65912628173828",
         "104.75554656982422"
        ],
        [
         "2020-02-25 00:00:00",
         "103.7207260131836",
         "47.56999969482422",
         "24.46498680114746",
         "48.56999969482422",
         "52.94681930541992",
         "44.174949645996094",
         "158.21376037597656",
         "50.934085845947266",
         "6.5228471755981445",
         "110.78366088867188",
         "18.6200008392334",
         "70.99163055419922",
         "94.20487213134766",
         "102.1159439086914"
        ],
        [
         "2020-02-26 00:00:00",
         "103.88355255126953",
         "47.4900016784668",
         "24.7419376373291",
         "46.11000061035156",
         "52.87590789794922",
         "43.079444885253906",
         "157.9060821533203",
         "51.19804382324219",
         "6.662240982055664",
         "109.5457992553711",
         "18.360000610351562",
         "70.49606323242188",
         "92.11083221435547",
         "102.46961212158203"
        ],
        [
         "2020-02-27 00:00:00",
         "97.97177124023438",
         "44.0099983215332",
         "23.709436416625977",
         "44.25",
         "49.489723205566406",
         "40.85660171508789",
         "151.17518615722656",
         "49.448116302490234",
         "6.291382312774658",
         "105.11700439453125",
         "17.540000915527344",
         "67.2040023803711",
         "86.56519317626953",
         "97.58724212646484"
        ],
        [
         "2020-02-28 00:00:00",
         "99.18141174316406",
         "45.47999954223633",
         "23.594329833984375",
         "45.77000045776367",
         "49.21491622924805",
         "41.233890533447266",
         "152.54061889648438",
         "51.38380813598633",
         "6.726499080657959",
         "104.2459487915039",
         "18.65999984741211",
         "69.2925033569336",
         "88.88993072509766",
         "98.4584732055664"
        ],
        [
         "2020-03-02 00:00:00",
         "101.20050811767578",
         "47.459999084472656",
         "24.66318130493164",
         "44.95000076293945",
         "51.572845458984375",
         "43.28400421142578",
         "157.80996704101562",
         "53.36836242675781",
         "6.884904384613037",
         "110.10513305664062",
         "18.93000030517578",
         "71.29251861572266",
         "92.51899719238281",
         "102.62489318847656"
        ],
        [
         "2020-03-03 00:00:00",
         "97.49882507324219",
         "46.75",
         "23.735397338867188",
         "44.209999084472656",
         "49.61381530761719",
         "40.6429557800293",
         "155.9733428955078",
         "50.64080047607422",
         "6.622389316558838",
         "106.87752532958984",
         "18.1299991607666",
         "69.52261352539062",
         "88.40190887451172",
         "98.17381286621094"
        ],
        [
         "2020-03-04 00:00:00",
         "102.28282165527344",
         "50.11000061035156",
         "24.704723358154297",
         "45.47999954223633",
         "52.01605987548828",
         "42.39305114746094",
         "164.9446258544922",
         "54.05270004272461",
         "7.086148262023926",
         "111.19628143310547",
         "18.729999542236328",
         "72.9657211303711",
         "91.7115478515625",
         "102.69390106201172"
        ],
        [
         "2020-03-05 00:00:00",
         "99.01769256591797",
         "48.11000061035156",
         "23.717227935791016",
         "45.470001220703125",
         "50.491390228271484",
         "40.31111526489258",
         "165.70428466796875",
         "52.51782989501953",
         "6.806697368621826",
         "105.69469451904297",
         "17.829999923706055",
         "70.61976623535156",
         "87.4791259765625",
         "98.95880126953125"
        ],
        [
         "2020-03-06 00:00:00",
         "97.31692504882812",
         "48.59000015258789",
         "23.319974899291992",
         "43.369998931884766",
         "49.4365348815918",
         "39.52926254272461",
         "159.67530822753906",
         "50.31819152832031",
         "6.626126289367676",
         "102.4120864868164",
         "17.280000686645508",
         "69.10335540771484",
         "84.92369079589844",
         "97.6131362915039"
        ],
        [
         "2020-03-09 00:00:00",
         "88.68571472167969",
         "43.27000045776367",
         "21.43931770324707",
         "39.150001525878906",
         "45.07526397705078",
         "35.43814468383789",
         "142.80007934570312",
         "44.94126892089844",
         "6.1130523681640625",
         "93.49951171875",
         "15.529999732971191",
         "64.79499053955078",
         "78.36652374267578",
         "90.60871124267578"
        ],
        [
         "2020-03-10 00:00:00",
         "93.16958618164062",
         "45.380001068115234",
         "22.75309944152832",
         "41.08000183105469",
         "47.84981155395508",
         "37.03822708129883",
         "157.32911682128906",
         "46.78896713256836",
         "6.502589702606201",
         "97.97412872314453",
         "16.889999389648438",
         "70.37000274658203",
         "84.99467468261719",
         "96.71601104736328"
        ],
        [
         "2020-03-11 00:00:00",
         "85.86627197265625",
         "45.70000076293945",
         "21.287860870361328",
         "37.22999954223633",
         "45.793270111083984",
         "33.36532211303711",
         "149.80982971191406",
         "42.741615295410156",
         "6.138705730438232",
         "92.16995239257812",
         "15.069999694824219",
         "66.56114196777344",
         "79.7152328491211",
         "91.86812591552734"
        ],
        [
         "2020-03-12 00:00:00",
         "81.86446380615234",
         "39.0099983215332",
         "18.934659957885742",
         "36.560001373291016",
         "40.3682975769043",
         "28.328697204589844",
         "140.3769989013672",
         "37.94150161743164",
         "5.3875250816345215",
         "84.3301773071289",
         "12.930000305175781",
         "59.78192901611328",
         "71.47219848632812",
         "84.13050842285156"
        ],
        [
         "2020-03-13 00:00:00",
         "90.75940704345703",
         "43.900001525878906",
         "20.270946502685547",
         "35.959999084472656",
         "48.248695373535156",
         "31.8061466217041",
         "164.00228881835938",
         "42.0279541015625",
         "5.998481750488281",
         "87.96229553222656",
         "14.489999771118164",
         "67.62263488769531",
         "73.64606475830078",
         "91.47132110595703"
        ]
       ],
       "shape": {
        "columns": 14,
        "rows": 1373
       }
      },
      "text/html": [
       "<div>\n",
       "<style scoped>\n",
       "    .dataframe tbody tr th:only-of-type {\n",
       "        vertical-align: middle;\n",
       "    }\n",
       "\n",
       "    .dataframe tbody tr th {\n",
       "        vertical-align: top;\n",
       "    }\n",
       "\n",
       "    .dataframe thead th {\n",
       "        text-align: right;\n",
       "    }\n",
       "</style>\n",
       "<table border=\"1\" class=\"dataframe\">\n",
       "  <thead>\n",
       "    <tr style=\"text-align: right;\">\n",
       "      <th>Ticker</th>\n",
       "      <th>ADI</th>\n",
       "      <th>AMD</th>\n",
       "      <th>AVGO</th>\n",
       "      <th>FSLR</th>\n",
       "      <th>INTC</th>\n",
       "      <th>MCHP</th>\n",
       "      <th>MPWR</th>\n",
       "      <th>MU</th>\n",
       "      <th>NVDA</th>\n",
       "      <th>NXPI</th>\n",
       "      <th>ON</th>\n",
       "      <th>QCOM</th>\n",
       "      <th>SWKS</th>\n",
       "      <th>TXN</th>\n",
       "    </tr>\n",
       "    <tr>\n",
       "      <th>Date</th>\n",
       "      <th></th>\n",
       "      <th></th>\n",
       "      <th></th>\n",
       "      <th></th>\n",
       "      <th></th>\n",
       "      <th></th>\n",
       "      <th></th>\n",
       "      <th></th>\n",
       "      <th></th>\n",
       "      <th></th>\n",
       "      <th></th>\n",
       "      <th></th>\n",
       "      <th></th>\n",
       "      <th></th>\n",
       "    </tr>\n",
       "  </thead>\n",
       "  <tbody>\n",
       "    <tr>\n",
       "      <th>2020-01-02</th>\n",
       "      <td>108.940224</td>\n",
       "      <td>49.099998</td>\n",
       "      <td>27.901752</td>\n",
       "      <td>57.240002</td>\n",
       "      <td>53.666466</td>\n",
       "      <td>48.748096</td>\n",
       "      <td>173.088974</td>\n",
       "      <td>54.150455</td>\n",
       "      <td>5.971747</td>\n",
       "      <td>117.862358</td>\n",
       "      <td>25.059999</td>\n",
       "      <td>78.487251</td>\n",
       "      <td>107.541161</td>\n",
       "      <td>110.966995</td>\n",
       "    </tr>\n",
       "    <tr>\n",
       "      <th>2020-01-03</th>\n",
       "      <td>107.022484</td>\n",
       "      <td>48.599998</td>\n",
       "      <td>27.192074</td>\n",
       "      <td>57.020000</td>\n",
       "      <td>53.013721</td>\n",
       "      <td>47.678898</td>\n",
       "      <td>169.954315</td>\n",
       "      <td>53.309704</td>\n",
       "      <td>5.876163</td>\n",
       "      <td>116.725372</td>\n",
       "      <td>24.690001</td>\n",
       "      <td>77.009354</td>\n",
       "      <td>104.871864</td>\n",
       "      <td>109.493927</td>\n",
       "    </tr>\n",
       "    <tr>\n",
       "      <th>2020-01-06</th>\n",
       "      <td>105.765099</td>\n",
       "      <td>48.389999</td>\n",
       "      <td>27.151388</td>\n",
       "      <td>55.830002</td>\n",
       "      <td>52.863766</td>\n",
       "      <td>46.994808</td>\n",
       "      <td>168.213898</td>\n",
       "      <td>52.371193</td>\n",
       "      <td>5.900805</td>\n",
       "      <td>115.900131</td>\n",
       "      <td>24.070000</td>\n",
       "      <td>76.558044</td>\n",
       "      <td>103.024529</td>\n",
       "      <td>108.731705</td>\n",
       "    </tr>\n",
       "    <tr>\n",
       "      <th>2020-01-07</th>\n",
       "      <td>108.171318</td>\n",
       "      <td>48.250000</td>\n",
       "      <td>27.057922</td>\n",
       "      <td>56.669998</td>\n",
       "      <td>51.981674</td>\n",
       "      <td>50.148014</td>\n",
       "      <td>169.781250</td>\n",
       "      <td>56.966011</td>\n",
       "      <td>5.972244</td>\n",
       "      <td>117.403908</td>\n",
       "      <td>24.660000</td>\n",
       "      <td>78.735046</td>\n",
       "      <td>104.005669</td>\n",
       "      <td>110.829956</td>\n",
       "    </tr>\n",
       "    <tr>\n",
       "      <th>2020-01-08</th>\n",
       "      <td>109.148285</td>\n",
       "      <td>47.830002</td>\n",
       "      <td>26.720388</td>\n",
       "      <td>56.700001</td>\n",
       "      <td>52.016953</td>\n",
       "      <td>49.513752</td>\n",
       "      <td>169.560089</td>\n",
       "      <td>56.232796</td>\n",
       "      <td>5.983445</td>\n",
       "      <td>117.697327</td>\n",
       "      <td>24.820000</td>\n",
       "      <td>78.504951</td>\n",
       "      <td>105.658485</td>\n",
       "      <td>111.129692</td>\n",
       "    </tr>\n",
       "    <tr>\n",
       "      <th>...</th>\n",
       "      <td>...</td>\n",
       "      <td>...</td>\n",
       "      <td>...</td>\n",
       "      <td>...</td>\n",
       "      <td>...</td>\n",
       "      <td>...</td>\n",
       "      <td>...</td>\n",
       "      <td>...</td>\n",
       "      <td>...</td>\n",
       "      <td>...</td>\n",
       "      <td>...</td>\n",
       "      <td>...</td>\n",
       "      <td>...</td>\n",
       "      <td>...</td>\n",
       "    </tr>\n",
       "    <tr>\n",
       "      <th>2025-06-12</th>\n",
       "      <td>232.119995</td>\n",
       "      <td>118.500000</td>\n",
       "      <td>256.070007</td>\n",
       "      <td>167.830002</td>\n",
       "      <td>20.770000</td>\n",
       "      <td>67.930000</td>\n",
       "      <td>718.570007</td>\n",
       "      <td>116.180000</td>\n",
       "      <td>145.000000</td>\n",
       "      <td>217.399994</td>\n",
       "      <td>52.980000</td>\n",
       "      <td>158.699997</td>\n",
       "      <td>72.010002</td>\n",
       "      <td>199.660004</td>\n",
       "    </tr>\n",
       "    <tr>\n",
       "      <th>2025-06-13</th>\n",
       "      <td>225.029999</td>\n",
       "      <td>116.160004</td>\n",
       "      <td>248.699997</td>\n",
       "      <td>175.199997</td>\n",
       "      <td>20.139999</td>\n",
       "      <td>65.730003</td>\n",
       "      <td>673.010010</td>\n",
       "      <td>115.599998</td>\n",
       "      <td>141.970001</td>\n",
       "      <td>210.899994</td>\n",
       "      <td>51.020000</td>\n",
       "      <td>154.720001</td>\n",
       "      <td>71.250000</td>\n",
       "      <td>195.000000</td>\n",
       "    </tr>\n",
       "    <tr>\n",
       "      <th>2025-06-16</th>\n",
       "      <td>231.800003</td>\n",
       "      <td>126.389999</td>\n",
       "      <td>252.100006</td>\n",
       "      <td>175.250000</td>\n",
       "      <td>20.740000</td>\n",
       "      <td>68.190002</td>\n",
       "      <td>706.590027</td>\n",
       "      <td>119.839996</td>\n",
       "      <td>144.690002</td>\n",
       "      <td>217.529999</td>\n",
       "      <td>53.880001</td>\n",
       "      <td>156.869995</td>\n",
       "      <td>71.980003</td>\n",
       "      <td>199.220001</td>\n",
       "    </tr>\n",
       "    <tr>\n",
       "      <th>2025-06-17</th>\n",
       "      <td>227.440002</td>\n",
       "      <td>127.099998</td>\n",
       "      <td>249.369995</td>\n",
       "      <td>143.899994</td>\n",
       "      <td>20.799999</td>\n",
       "      <td>67.690002</td>\n",
       "      <td>690.869995</td>\n",
       "      <td>120.339996</td>\n",
       "      <td>144.119995</td>\n",
       "      <td>212.830002</td>\n",
       "      <td>52.939999</td>\n",
       "      <td>154.460007</td>\n",
       "      <td>71.529999</td>\n",
       "      <td>197.690002</td>\n",
       "    </tr>\n",
       "    <tr>\n",
       "      <th>2025-06-18</th>\n",
       "      <td>229.649994</td>\n",
       "      <td>126.790001</td>\n",
       "      <td>251.259995</td>\n",
       "      <td>143.669998</td>\n",
       "      <td>21.490000</td>\n",
       "      <td>68.019997</td>\n",
       "      <td>693.239990</td>\n",
       "      <td>121.820000</td>\n",
       "      <td>145.479996</td>\n",
       "      <td>211.449997</td>\n",
       "      <td>52.259998</td>\n",
       "      <td>153.630005</td>\n",
       "      <td>71.620003</td>\n",
       "      <td>198.350006</td>\n",
       "    </tr>\n",
       "  </tbody>\n",
       "</table>\n",
       "<p>1373 rows × 14 columns</p>\n",
       "</div>"
      ],
      "text/plain": [
       "Ticker             ADI         AMD  ...        SWKS         TXN\n",
       "Date                                ...                        \n",
       "2020-01-02  108.940224   49.099998  ...  107.541161  110.966995\n",
       "2020-01-03  107.022484   48.599998  ...  104.871864  109.493927\n",
       "2020-01-06  105.765099   48.389999  ...  103.024529  108.731705\n",
       "2020-01-07  108.171318   48.250000  ...  104.005669  110.829956\n",
       "2020-01-08  109.148285   47.830002  ...  105.658485  111.129692\n",
       "...                ...         ...  ...         ...         ...\n",
       "2025-06-12  232.119995  118.500000  ...   72.010002  199.660004\n",
       "2025-06-13  225.029999  116.160004  ...   71.250000  195.000000\n",
       "2025-06-16  231.800003  126.389999  ...   71.980003  199.220001\n",
       "2025-06-17  227.440002  127.099998  ...   71.529999  197.690002\n",
       "2025-06-18  229.649994  126.790001  ...   71.620003  198.350006\n",
       "\n",
       "[1373 rows x 14 columns]"
      ]
     },
     "execution_count": 714,
     "metadata": {},
     "output_type": "execute_result"
    }
   ],
   "source": [
    "current_date = dt.datetime.now().strftime('%Y-%m-%d')\n",
    "df = yf.download(tickers_list, start = '2020-01-01', end = current_date)['Close']\n",
    "df"
   ]
  },
  {
   "cell_type": "code",
   "execution_count": 715,
   "id": "a08326f7",
   "metadata": {},
   "outputs": [],
   "source": [
    "def cointegration_pairs(df, threshold=0.05):\n",
    "    pairs = []\n",
    "    for i in range(len(df.columns)):\n",
    "        for j in range(i + 1, len(df.columns)):\n",
    "            stock1 = df.iloc[:, i]\n",
    "            stock2 = df.iloc[:, j]\n",
    "            score, p_value, _ = coint(stock1, stock2)\n",
    "            if p_value < threshold:\n",
    "                pairs.append((df.columns[i], df.columns[j], p_value))\n",
    "    return pairs"
   ]
  },
  {
   "cell_type": "code",
   "execution_count": 716,
   "id": "0dec8f5f",
   "metadata": {},
   "outputs": [
    {
     "name": "stdout",
     "output_type": "stream",
     "text": [
      "Stock 1: ADI, Stock 2: MPWR, p-value: 0.0191\n",
      "Stock 1: MPWR, Stock 2: MU, p-value: 0.0262\n",
      "Stock 1: AVGO, Stock 2: NVDA, p-value: 0.0328\n",
      "Stock 1: AMD, Stock 2: NXPI, p-value: 0.0429\n"
     ]
    }
   ],
   "source": [
    "list_of_pairs = cointegration_pairs(df, threshold=0.05)\n",
    "sorted_pairs = sorted(list_of_pairs, key=lambda x: x[2])\n",
    "for pair in sorted_pairs:\n",
    "    print(f'Stock 1: {pair[0]}, Stock 2: {pair[1]}, p-value: {pair[2]:.4f}')\n",
    "    pvalues = [pair[2] for pair in sorted_pairs]"
   ]
  },
  {
   "cell_type": "code",
   "execution_count": 717,
   "id": "d81c60a7",
   "metadata": {},
   "outputs": [
    {
     "data": {
      "text/plain": [
       "('AMD', 'NXPI')"
      ]
     },
     "execution_count": 717,
     "metadata": {},
     "output_type": "execute_result"
    }
   ],
   "source": [
    "highest_p_val = sorted_pairs[-1][0:2]\n",
    "highest_p_val"
   ]
  },
  {
   "cell_type": "code",
   "execution_count": 718,
   "id": "9de8ce5f",
   "metadata": {},
   "outputs": [
    {
     "data": {
      "image/png": "[encoded data removed]",
      "text/plain": [
       "<Figure size 640x480 with 2 Axes>"
      ]
     },
     "metadata": {},
     "output_type": "display_data"
    }
   ],
   "source": [
    "# Create a matrix of p-values\n",
    "pvalues_matrix = np.zeros((len(tickers_list), len(tickers_list)))\n",
    "for pair in sorted_pairs:\n",
    "    i = tickers_list.index(pair[0])\n",
    "    j = tickers_list.index(pair[1])\n",
    "    pvalues_matrix[i, j] = pair[2]\n",
    "    pvalues_matrix[j, i] = pair[2]  # Mirror the values\n",
    "\n",
    "# Create heatmap\n",
    "sns.heatmap(\n",
    "    pvalues_matrix,\n",
    "    xticklabels=tickers_list,\n",
    "    yticklabels=tickers_list,\n",
    "    mask=(pvalues_matrix > 0.10)\n",
    ")\n",
    "plt.title('Cointegration p-values Heatmap')\n",
    "plt.show()"
   ]
  },
  {
   "cell_type": "code",
   "execution_count": 727,
   "id": "2c56963c",
   "metadata": {},
   "outputs": [],
   "source": [
    "stock1 = df[f'{highest_p_val[0]}']\n",
    "stock2 = df[f'{highest_p_val[1]}']"
   ]
  },
  {
   "cell_type": "code",
   "execution_count": null,
   "id": "663674b8",
   "metadata": {},
   "outputs": [
    {
     "name": "stderr",
     "output_type": "stream",
     "text": [
      "/var/folders/dl/q12jywhx4svgdkc33pp48gq80000gn/T/ipykernel_52702/1819373247.py:5: FutureWarning: Series.__getitem__ treating keys as positions is deprecated. In a future version, integer keys will always be treated as labels (consistent with DataFrame behavior). To access a value by position, use `ser.iloc[pos]`\n",
      "  b = results.params[0]\n"
     ]
    }
   ],
   "source": [
    "results = sm.OLS(stock2, stock1).fit()\n",
    "b = results.params[0]\n",
    "spread = stock2 - b * stock1"
   ]
  },
  {
   "cell_type": "code",
   "execution_count": 738,
   "id": "fcd55b94",
   "metadata": {},
   "outputs": [
    {
     "data": {
      "text/html": [
       "<table class=\"simpletable\">\n",
       "<caption>OLS Regression Results</caption>\n",
       "<tr>\n",
       "  <th>Dep. Variable:</th>          <td>NXPI</td>       <th>  R-squared (uncentered):</th>      <td>   0.975</td> \n",
       "</tr>\n",
       "<tr>\n",
       "  <th>Model:</th>                   <td>OLS</td>       <th>  Adj. R-squared (uncentered):</th> <td>   0.975</td> \n",
       "</tr>\n",
       "<tr>\n",
       "  <th>Method:</th>             <td>Least Squares</td>  <th>  F-statistic:       </th>          <td>5.289e+04</td>\n",
       "</tr>\n",
       "<tr>\n",
       "  <th>Date:</th>             <td>Fri, 20 Jun 2025</td> <th>  Prob (F-statistic):</th>           <td>  0.00</td>  \n",
       "</tr>\n",
       "<tr>\n",
       "  <th>Time:</th>                 <td>21:44:14</td>     <th>  Log-Likelihood:    </th>          <td> -6590.6</td> \n",
       "</tr>\n",
       "<tr>\n",
       "  <th>No. Observations:</th>      <td>  1373</td>      <th>  AIC:               </th>          <td>1.318e+04</td>\n",
       "</tr>\n",
       "<tr>\n",
       "  <th>Df Residuals:</th>          <td>  1372</td>      <th>  BIC:               </th>          <td>1.319e+04</td>\n",
       "</tr>\n",
       "<tr>\n",
       "  <th>Df Model:</th>              <td>     1</td>      <th>                     </th>              <td> </td>    \n",
       "</tr>\n",
       "<tr>\n",
       "  <th>Covariance Type:</th>      <td>nonrobust</td>    <th>                     </th>              <td> </td>    \n",
       "</tr>\n",
       "</table>\n",
       "<table class=\"simpletable\">\n",
       "<tr>\n",
       "   <td></td>      <th>coef</th>     <th>std err</th>      <th>t</th>      <th>P>|t|</th>  <th>[0.025</th>    <th>0.975]</th>  \n",
       "</tr>\n",
       "<tr>\n",
       "  <th>AMD</th> <td>    1.6652</td> <td>    0.007</td> <td>  229.981</td> <td> 0.000</td> <td>    1.651</td> <td>    1.679</td>\n",
       "</tr>\n",
       "</table>\n",
       "<table class=\"simpletable\">\n",
       "<tr>\n",
       "  <th>Omnibus:</th>       <td>108.443</td> <th>  Durbin-Watson:     </th> <td>   0.027</td>\n",
       "</tr>\n",
       "<tr>\n",
       "  <th>Prob(Omnibus):</th> <td> 0.000</td>  <th>  Jarque-Bera (JB):  </th> <td> 140.676</td>\n",
       "</tr>\n",
       "<tr>\n",
       "  <th>Skew:</th>          <td>-0.677</td>  <th>  Prob(JB):          </th> <td>2.83e-31</td>\n",
       "</tr>\n",
       "<tr>\n",
       "  <th>Kurtosis:</th>      <td> 3.791</td>  <th>  Cond. No.          </th> <td>    1.00</td>\n",
       "</tr>\n",
       "</table><br/><br/>Notes:<br/>[1] R² is computed without centering (uncentered) since the model does not contain a constant.<br/>[2] Standard Errors assume that the covariance matrix of the errors is correctly specified."
      ],
      "text/latex": [
       "\\begin{center}\n",
       "\\begin{tabular}{lclc}\n",
       "\\toprule\n",
       "\\textbf{Dep. Variable:}    &       NXPI       & \\textbf{  R-squared (uncentered):}      &     0.975   \\\\\n",
       "\\textbf{Model:}            &       OLS        & \\textbf{  Adj. R-squared (uncentered):} &     0.975   \\\\\n",
       "\\textbf{Method:}           &  Least Squares   & \\textbf{  F-statistic:       }          & 5.289e+04   \\\\\n",
       "\\textbf{Date:}             & Fri, 20 Jun 2025 & \\textbf{  Prob (F-statistic):}          &     0.00    \\\\\n",
       "\\textbf{Time:}             &     21:44:14     & \\textbf{  Log-Likelihood:    }          &   -6590.6   \\\\\n",
       "\\textbf{No. Observations:} &        1373      & \\textbf{  AIC:               }          & 1.318e+04   \\\\\n",
       "\\textbf{Df Residuals:}     &        1372      & \\textbf{  BIC:               }          & 1.319e+04   \\\\\n",
       "\\textbf{Df Model:}         &           1      & \\textbf{                     }          &             \\\\\n",
       "\\textbf{Covariance Type:}  &    nonrobust     & \\textbf{                     }          &             \\\\\n",
       "\\bottomrule\n",
       "\\end{tabular}\n",
       "\\begin{tabular}{lcccccc}\n",
       "             & \\textbf{coef} & \\textbf{std err} & \\textbf{t} & \\textbf{P$> |$t$|$} & \\textbf{[0.025} & \\textbf{0.975]}  \\\\\n",
       "\\midrule\n",
       "\\textbf{AMD} &       1.6652  &        0.007     &   229.981  &         0.000        &        1.651    &        1.679     \\\\\n",
       "\\bottomrule\n",
       "\\end{tabular}\n",
       "\\begin{tabular}{lclc}\n",
       "\\textbf{Omnibus:}       & 108.443 & \\textbf{  Durbin-Watson:     } &    0.027  \\\\\n",
       "\\textbf{Prob(Omnibus):} &   0.000 & \\textbf{  Jarque-Bera (JB):  } &  140.676  \\\\\n",
       "\\textbf{Skew:}          &  -0.677 & \\textbf{  Prob(JB):          } & 2.83e-31  \\\\\n",
       "\\textbf{Kurtosis:}      &   3.791 & \\textbf{  Cond. No.          } &     1.00  \\\\\n",
       "\\bottomrule\n",
       "\\end{tabular}\n",
       "%\\caption{OLS Regression Results}\n",
       "\\end{center}\n",
       "\n",
       "Notes: \\newline\n",
       " [1] R² is computed without centering (uncentered) since the model does not contain a constant. \\newline\n",
       " [2] Standard Errors assume that the covariance matrix of the errors is correctly specified."
      ],
      "text/plain": [
       "<class 'statsmodels.iolib.summary.Summary'>\n",
       "\"\"\"\n",
       "                                 OLS Regression Results                                \n",
       "=======================================================================================\n",
       "Dep. Variable:                   NXPI   R-squared (uncentered):                   0.975\n",
       "Model:                            OLS   Adj. R-squared (uncentered):              0.975\n",
       "Method:                 Least Squares   F-statistic:                          5.289e+04\n",
       "Date:                Fri, 20 Jun 2025   Prob (F-statistic):                        0.00\n",
       "Time:                        21:44:14   Log-Likelihood:                         -6590.6\n",
       "No. Observations:                1373   AIC:                                  1.318e+04\n",
       "Df Residuals:                    1372   BIC:                                  1.319e+04\n",
       "Df Model:                           1                                                  \n",
       "Covariance Type:            nonrobust                                                  \n",
       "==============================================================================\n",
       "                 coef    std err          t      P>|t|      [0.025      0.975]\n",
       "------------------------------------------------------------------------------\n",
       "AMD            1.6652      0.007    229.981      0.000       1.651       1.679\n",
       "==============================================================================\n",
       "Omnibus:                      108.443   Durbin-Watson:                   0.027\n",
       "Prob(Omnibus):                  0.000   Jarque-Bera (JB):              140.676\n",
       "Skew:                          -0.677   Prob(JB):                     2.83e-31\n",
       "Kurtosis:                       3.791   Cond. No.                         1.00\n",
       "==============================================================================\n",
       "\n",
       "Notes:\n",
       "[1] R² is computed without centering (uncentered) since the model does not contain a constant.\n",
       "[2] Standard Errors assume that the covariance matrix of the errors is correctly specified.\n",
       "\"\"\""
      ]
     },
     "execution_count": 738,
     "metadata": {},
     "output_type": "execute_result"
    }
   ],
   "source": [
    "results.summary()"
   ]
  },
  {
   "cell_type": "code",
   "execution_count": 729,
   "id": "2a65e555",
   "metadata": {},
   "outputs": [
    {
     "data": {
      "application/vnd.microsoft.datawrangler.viewer.v0+json": {
       "columns": [
        {
         "name": "Date",
         "rawType": "datetime64[ns]",
         "type": "datetime"
        },
        {
         "name": "0",
         "rawType": "float64",
         "type": "float"
        }
       ],
       "ref": "bec3b9df-45c2-446b-8bcf-d36dabe19af9",
       "rows": [
        [
         "2020-01-02 00:00:00",
         "36.102940939203535"
        ],
        [
         "2020-01-03 00:00:00",
         "35.7985358090191"
        ],
        [
         "2020-01-06 00:00:00",
         "35.32297706807336"
        ],
        [
         "2020-01-07 00:00:00",
         "37.05987518364729"
        ],
        [
         "2020-01-08 00:00:00",
         "38.05265876376754"
        ],
        [
         "2020-01-09 00:00:00",
         "36.906245102898396"
        ],
        [
         "2020-01-10 00:00:00",
         "38.66017792842074"
        ],
        [
         "2020-01-13 00:00:00",
         "39.84001883922235"
        ],
        [
         "2020-01-14 00:00:00",
         "41.40856476404183"
        ],
        [
         "2020-01-15 00:00:00",
         "40.6498437509252"
        ],
        [
         "2020-01-16 00:00:00",
         "40.15879598541933"
        ],
        [
         "2020-01-17 00:00:00",
         "37.915456815358795"
        ],
        [
         "2020-01-21 00:00:00",
         "37.825647478019235"
        ],
        [
         "2020-01-22 00:00:00",
         "37.816396674547136"
        ],
        [
         "2020-01-23 00:00:00",
         "38.97314701322348"
        ],
        [
         "2020-01-24 00:00:00",
         "40.201634581315005"
        ],
        [
         "2020-01-27 00:00:00",
         "37.5878734179538"
        ],
        [
         "2020-01-28 00:00:00",
         "37.517871836518395"
        ],
        [
         "2020-01-29 00:00:00",
         "42.528311022611035"
        ],
        [
         "2020-01-30 00:00:00",
         "39.45994213160532"
        ],
        [
         "2020-01-31 00:00:00",
         "38.059341331574885"
        ],
        [
         "2020-02-03 00:00:00",
         "35.29723926634608"
        ],
        [
         "2020-02-04 00:00:00",
         "37.32650427010627"
        ],
        [
         "2020-02-05 00:00:00",
         "40.088064975728074"
        ],
        [
         "2020-02-06 00:00:00",
         "41.97177950756708"
        ],
        [
         "2020-02-07 00:00:00",
         "38.4648677679623"
        ],
        [
         "2020-02-10 00:00:00",
         "35.104794921716646"
        ],
        [
         "2020-02-11 00:00:00",
         "34.676850944277746"
        ],
        [
         "2020-02-12 00:00:00",
         "36.645142606547424"
        ],
        [
         "2020-02-13 00:00:00",
         "36.36797646441964"
        ],
        [
         "2020-02-14 00:00:00",
         "33.59287375013949"
        ],
        [
         "2020-02-18 00:00:00",
         "28.01858571675558"
        ],
        [
         "2020-02-19 00:00:00",
         "25.66189573287987"
        ],
        [
         "2020-02-20 00:00:00",
         "28.238590589553"
        ],
        [
         "2020-02-21 00:00:00",
         "30.93975401371442"
        ],
        [
         "2020-02-24 00:00:00",
         "31.943462024250394"
        ],
        [
         "2020-02-25 00:00:00",
         "31.571938486736016"
        ],
        [
         "2020-02-26 00:00:00",
         "30.46728645413026"
        ],
        [
         "2020-02-27 00:00:00",
         "31.833258497550474"
        ],
        [
         "2020-02-28 00:00:00",
         "28.514413754900502"
        ],
        [
         "2020-03-02 00:00:00",
         "31.076579413735885"
        ],
        [
         "2020-03-03 00:00:00",
         "29.03123468323072"
        ],
        [
         "2020-03-04 00:00:00",
         "27.755047811658173"
        ],
        [
         "2020-03-05 00:00:00",
         "25.583783492092323"
        ],
        [
         "2020-03-06 00:00:00",
         "21.501898799436916"
        ],
        [
         "2020-03-09 00:00:00",
         "21.44798162456469"
        ],
        [
         "2020-03-10 00:00:00",
         "22.409107275431452"
        ],
        [
         "2020-03-11 00:00:00",
         "16.072079837912483"
        ],
        [
         "2020-03-12 00:00:00",
         "19.37223789638975"
        ],
        [
         "2020-03-13 00:00:00",
         "14.86171204219066"
        ]
       ],
       "shape": {
        "columns": 1,
        "rows": 1373
       }
      },
      "text/plain": [
       "Date\n",
       "2020-01-02    36.102941\n",
       "2020-01-03    35.798536\n",
       "2020-01-06    35.322977\n",
       "2020-01-07    37.059875\n",
       "2020-01-08    38.052659\n",
       "                ...    \n",
       "2025-06-12    20.078380\n",
       "2025-06-13    17.474852\n",
       "2025-06-16     7.070263\n",
       "2025-06-17     1.188003\n",
       "2025-06-18     0.324195\n",
       "Length: 1373, dtype: float64"
      ]
     },
     "execution_count": 729,
     "metadata": {},
     "output_type": "execute_result"
    }
   ],
   "source": [
    "spread"
   ]
  },
  {
   "cell_type": "code",
   "execution_count": 730,
   "id": "813a0bb0",
   "metadata": {},
   "outputs": [],
   "source": [
    "def zscore(series):\n",
    "    return (series - series.mean()) / np.std(series)"
   ]
  },
  {
   "cell_type": "code",
   "execution_count": 749,
   "id": "da263e48",
   "metadata": {},
   "outputs": [
    {
     "data": {
      "text/plain": [
       "<matplotlib.legend.Legend at 0x7f7ec9c28730>"
      ]
     },
     "execution_count": 749,
     "metadata": {},
     "output_type": "execute_result"
    },
    {
     "data": {
      "image/png": "[encoded data removed]",
      "text/plain": [
       "<Figure size 640x480 with 1 Axes>"
      ]
     },
     "metadata": {},
     "output_type": "display_data"
    }
   ],
   "source": [
    "zscore(spread).plot()\n",
    "plt.axhline(zscore(spread).mean(), color='black', linestyle='--')\n",
    "plt.axhline(1.0, color='red', linestyle='--')\n",
    "plt.axhline(-1.0, color='green', linestyle='--')\n",
    "plt.legend(['Spread Z-Score', 'Mean', 'Upper Band (Sell Signal)', 'Lower Band (Buy Signal)'])"
   ]
  },
  {
   "cell_type": "code",
   "execution_count": 732,
   "id": "c9ab92bf",
   "metadata": {},
   "outputs": [
    {
     "data": {
      "image/png": "[encoded data removed]",
      "text/plain": [
       "<Figure size 2100x700 with 1 Axes>"
      ]
     },
     "metadata": {},
     "output_type": "display_data"
    }
   ],
   "source": [
    "#plotting the spread\n",
    "## May Not need this graphic, but keeping it for reference\n",
    "plot = spread.plot(figsize=(21,7), title=\"Pair's Spread\")\n",
    "plot.set_ylabel('Spread')\n",
    "plot.grid(True)"
   ]
  },
  {
   "cell_type": "code",
   "execution_count": null,
   "id": "9f68ec0f",
   "metadata": {},
   "outputs": [
    {
     "data": {
      "text/plain": [
       "Text(0.5, 1.0, 'Crossing Price of AMD and NXPI')"
      ]
     },
     "execution_count": 733,
     "metadata": {},
     "output_type": "execute_result"
    },
    {
     "data": {
      "image/png": "[encoded data removed]",
      "text/plain": [
       "<Figure size 1300x700 with 1 Axes>"
      ]
     },
     "metadata": {},
     "output_type": "display_data"
    }
   ],
   "source": [
    "plt.figure(figsize=(13, 7))\n",
    "plt.plot(stock1, lw=1.5, label=f'Close Price of {highest_p_val[0]}')\n",
    "plt.plot(stock2, lw=1.5, label=f'Close Price of {highest_p_val[1]}')\n",
    "plt.grid(True)\n",
    "plt.legend(loc=0)\n",
    "\n",
    "plt.axis('tight')\n",
    "plt.xlabel('Dates')\n",
    "plt.ylabel('Price')\n",
    "plt.title(f'Crossing Price of {highest_p_val[0]} and {highest_p_val[1]}')"
   ]
  },
  {
   "cell_type": "code",
   "execution_count": 734,
   "id": "1561e949",
   "metadata": {},
   "outputs": [
    {
     "data": {
      "text/plain": [
       "<Axes: title={'center': 'Cumulative Returns'}, xlabel='Date'>"
      ]
     },
     "execution_count": 734,
     "metadata": {},
     "output_type": "execute_result"
    },
    {
     "data": {
      "image/png": "[encoded data removed]",
      "text/plain": [
       "<Figure size 1300x700 with 1 Axes>"
      ]
     },
     "metadata": {},
     "output_type": "display_data"
    }
   ],
   "source": [
    "bt_df = pd.concat([zscore(spread), stock2 - b * stock1], axis=1)\n",
    "bt_df.columns = ['signal', 'position']\n",
    "\n",
    "bt_df['side'] = 0\n",
    "bt_df.loc[bt_df['signal'] <= -1, 'side'] = 1\n",
    "bt_df.loc[bt_df['signal'] >= 1, 'side'] = -1\n",
    "\n",
    "returns = bt_df.position.pct_change() * bt_df.side\n",
    "returns.cumsum().plot(figsize=(13,7), title=\"Cumulative Returns\")"
   ]
  },
  {
   "cell_type": "code",
   "execution_count": 740,
   "id": "cd185637",
   "metadata": {},
   "outputs": [
    {
     "data": {
      "application/vnd.microsoft.datawrangler.viewer.v0+json": {
       "columns": [
        {
         "name": "Date",
         "rawType": "datetime64[ns]",
         "type": "datetime"
        },
        {
         "name": "AMD",
         "rawType": "float64",
         "type": "float"
        },
        {
         "name": "NXPI",
         "rawType": "float64",
         "type": "float"
        }
       ],
       "ref": "d277f557-f31f-47e5-9903-376aafd33cc0",
       "rows": [
        [
         "2020-01-02 00:00:00",
         "49.099998474121094",
         "117.86235809326172"
        ],
        [
         "2020-01-03 00:00:00",
         "48.599998474121094",
         "116.72537231445312"
        ],
        [
         "2020-01-06 00:00:00",
         "48.38999938964844",
         "115.90013122558594"
        ],
        [
         "2020-01-07 00:00:00",
         "48.25",
         "117.4039077758789"
        ],
        [
         "2020-01-08 00:00:00",
         "47.83000183105469",
         "117.69732666015625"
        ],
        [
         "2020-01-09 00:00:00",
         "48.970001220703125",
         "118.4491958618164"
        ],
        [
         "2020-01-10 00:00:00",
         "48.16999816894531",
         "118.8709945678711"
        ],
        [
         "2020-01-13 00:00:00",
         "48.75",
         "121.01663208007812"
        ],
        [
         "2020-01-14 00:00:00",
         "48.209999084472656",
         "121.68598937988281"
        ],
        [
         "2020-01-15 00:00:00",
         "48.54999923706055",
         "121.49342346191406"
        ],
        [
         "2020-01-16 00:00:00",
         "49.77000045776367",
         "123.03387451171875"
        ],
        [
         "2020-01-17 00:00:00",
         "50.93000030517578",
         "122.72212219238281"
        ],
        [
         "2020-01-21 00:00:00",
         "51.04999923706055",
         "122.8321304321289"
        ],
        [
         "2020-01-22 00:00:00",
         "51.43000030517578",
         "123.45564270019531"
        ],
        [
         "2020-01-23 00:00:00",
         "51.709999084472656",
         "125.0786361694336"
        ],
        [
         "2020-01-24 00:00:00",
         "50.349998474121094",
         "124.0425033569336"
        ],
        [
         "2020-01-27 00:00:00",
         "49.2599983215332",
         "119.61371612548828"
        ],
        [
         "2020-01-28 00:00:00",
         "50.529998779296875",
         "121.6584701538086"
        ],
        [
         "2020-01-29 00:00:00",
         "47.5099983215332",
         "121.64012145996094"
        ],
        [
         "2020-01-30 00:00:00",
         "48.779998779296875",
         "120.68650817871094"
        ],
        [
         "2020-01-31 00:00:00",
         "47.0",
         "116.3219223022461"
        ],
        [
         "2020-02-03 00:00:00",
         "48.02000045776367",
         "115.25828552246094"
        ],
        [
         "2020-02-04 00:00:00",
         "49.45000076293945",
         "119.66873168945312"
        ],
        [
         "2020-02-05 00:00:00",
         "49.84000015258789",
         "123.07970428466797"
        ],
        [
         "2020-02-06 00:00:00",
         "49.31999969482422",
         "124.0975341796875"
        ],
        [
         "2020-02-07 00:00:00",
         "49.72999954223633",
         "121.2733383178711"
        ],
        [
         "2020-02-10 00:00:00",
         "52.2599983215332",
         "122.1261215209961"
        ],
        [
         "2020-02-11 00:00:00",
         "53.79999923706055",
         "124.26252746582031"
        ],
        [
         "2020-02-12 00:00:00",
         "53.88999938964844",
         "126.38068389892578"
        ],
        [
         "2020-02-13 00:00:00",
         "54.529998779296875",
         "127.16921997070312"
        ],
        [
         "2020-02-14 00:00:00",
         "55.310001373291016",
         "125.69294738769531"
        ],
        [
         "2020-02-18 00:00:00",
         "56.88999938964844",
         "122.7496109008789"
        ],
        [
         "2020-02-19 00:00:00",
         "58.900001525878906",
         "123.73989868164062"
        ],
        [
         "2020-02-20 00:00:00",
         "57.27000045776367",
         "123.60237884521484"
        ],
        [
         "2020-02-21 00:00:00",
         "53.279998779296875",
         "119.6595458984375"
        ],
        [
         "2020-02-24 00:00:00",
         "49.119998931884766",
         "113.7361831665039"
        ],
        [
         "2020-02-25 00:00:00",
         "47.56999969482422",
         "110.78366088867188"
        ],
        [
         "2020-02-26 00:00:00",
         "47.4900016784668",
         "109.5457992553711"
        ],
        [
         "2020-02-27 00:00:00",
         "44.0099983215332",
         "105.11700439453125"
        ],
        [
         "2020-02-28 00:00:00",
         "45.47999954223633",
         "104.2459487915039"
        ],
        [
         "2020-03-02 00:00:00",
         "47.459999084472656",
         "110.10513305664062"
        ],
        [
         "2020-03-03 00:00:00",
         "46.75",
         "106.87752532958984"
        ],
        [
         "2020-03-04 00:00:00",
         "50.11000061035156",
         "111.19628143310547"
        ],
        [
         "2020-03-05 00:00:00",
         "48.11000061035156",
         "105.69469451904297"
        ],
        [
         "2020-03-06 00:00:00",
         "48.59000015258789",
         "102.4120864868164"
        ],
        [
         "2020-03-09 00:00:00",
         "43.27000045776367",
         "93.49951171875"
        ],
        [
         "2020-03-10 00:00:00",
         "45.380001068115234",
         "97.97412872314453"
        ],
        [
         "2020-03-11 00:00:00",
         "45.70000076293945",
         "92.16995239257812"
        ],
        [
         "2020-03-12 00:00:00",
         "39.0099983215332",
         "84.3301773071289"
        ],
        [
         "2020-03-13 00:00:00",
         "43.900001525878906",
         "87.96229553222656"
        ]
       ],
       "shape": {
        "columns": 2,
        "rows": 1373
       }
      },
      "text/html": [
       "<div>\n",
       "<style scoped>\n",
       "    .dataframe tbody tr th:only-of-type {\n",
       "        vertical-align: middle;\n",
       "    }\n",
       "\n",
       "    .dataframe tbody tr th {\n",
       "        vertical-align: top;\n",
       "    }\n",
       "\n",
       "    .dataframe thead th {\n",
       "        text-align: right;\n",
       "    }\n",
       "</style>\n",
       "<table border=\"1\" class=\"dataframe\">\n",
       "  <thead>\n",
       "    <tr style=\"text-align: right;\">\n",
       "      <th>Ticker</th>\n",
       "      <th>AMD</th>\n",
       "      <th>NXPI</th>\n",
       "    </tr>\n",
       "    <tr>\n",
       "      <th>Date</th>\n",
       "      <th></th>\n",
       "      <th></th>\n",
       "    </tr>\n",
       "  </thead>\n",
       "  <tbody>\n",
       "    <tr>\n",
       "      <th>2020-01-02</th>\n",
       "      <td>49.099998</td>\n",
       "      <td>117.862358</td>\n",
       "    </tr>\n",
       "    <tr>\n",
       "      <th>2020-01-03</th>\n",
       "      <td>48.599998</td>\n",
       "      <td>116.725372</td>\n",
       "    </tr>\n",
       "    <tr>\n",
       "      <th>2020-01-06</th>\n",
       "      <td>48.389999</td>\n",
       "      <td>115.900131</td>\n",
       "    </tr>\n",
       "    <tr>\n",
       "      <th>2020-01-07</th>\n",
       "      <td>48.250000</td>\n",
       "      <td>117.403908</td>\n",
       "    </tr>\n",
       "    <tr>\n",
       "      <th>2020-01-08</th>\n",
       "      <td>47.830002</td>\n",
       "      <td>117.697327</td>\n",
       "    </tr>\n",
       "    <tr>\n",
       "      <th>...</th>\n",
       "      <td>...</td>\n",
       "      <td>...</td>\n",
       "    </tr>\n",
       "    <tr>\n",
       "      <th>2025-06-12</th>\n",
       "      <td>118.500000</td>\n",
       "      <td>217.399994</td>\n",
       "    </tr>\n",
       "    <tr>\n",
       "      <th>2025-06-13</th>\n",
       "      <td>116.160004</td>\n",
       "      <td>210.899994</td>\n",
       "    </tr>\n",
       "    <tr>\n",
       "      <th>2025-06-16</th>\n",
       "      <td>126.389999</td>\n",
       "      <td>217.529999</td>\n",
       "    </tr>\n",
       "    <tr>\n",
       "      <th>2025-06-17</th>\n",
       "      <td>127.099998</td>\n",
       "      <td>212.830002</td>\n",
       "    </tr>\n",
       "    <tr>\n",
       "      <th>2025-06-18</th>\n",
       "      <td>126.790001</td>\n",
       "      <td>211.449997</td>\n",
       "    </tr>\n",
       "  </tbody>\n",
       "</table>\n",
       "<p>1373 rows × 2 columns</p>\n",
       "</div>"
      ],
      "text/plain": [
       "Ticker             AMD        NXPI\n",
       "Date                              \n",
       "2020-01-02   49.099998  117.862358\n",
       "2020-01-03   48.599998  116.725372\n",
       "2020-01-06   48.389999  115.900131\n",
       "2020-01-07   48.250000  117.403908\n",
       "2020-01-08   47.830002  117.697327\n",
       "...                ...         ...\n",
       "2025-06-12  118.500000  217.399994\n",
       "2025-06-13  116.160004  210.899994\n",
       "2025-06-16  126.389999  217.529999\n",
       "2025-06-17  127.099998  212.830002\n",
       "2025-06-18  126.790001  211.449997\n",
       "\n",
       "[1373 rows x 2 columns]"
      ]
     },
     "execution_count": 740,
     "metadata": {},
     "output_type": "execute_result"
    }
   ],
   "source": [
    "df[[f'{highest_p_val[0]}', f'{highest_p_val[1]}']]"
   ]
  },
  {
   "cell_type": "code",
   "execution_count": 735,
   "id": "b2bece38",
   "metadata": {},
   "outputs": [
    {
     "data": {
      "application/vnd.microsoft.datawrangler.viewer.v0+json": {
       "columns": [
        {
         "name": "Date",
         "rawType": "datetime64[ns]",
         "type": "datetime"
        },
        {
         "name": "signal",
         "rawType": "float64",
         "type": "float"
        },
        {
         "name": "position",
         "rawType": "float64",
         "type": "float"
        },
        {
         "name": "side",
         "rawType": "int64",
         "type": "integer"
        }
       ],
       "ref": "5b14889d-c995-4516-87ad-28d1e6760fb4",
       "rows": [
        [
         "2020-01-02 00:00:00",
         "1.032165834812034",
         "36.102940939203535",
         "-1"
        ],
        [
         "2020-01-03 00:00:00",
         "1.0215513236176241",
         "35.7985358090191",
         "-1"
        ],
        [
         "2020-01-06 00:00:00",
         "1.0049687398211238",
         "35.32297706807336",
         "-1"
        ],
        [
         "2020-01-07 00:00:00",
         "1.0655338310866305",
         "37.05987518364729",
         "-1"
        ],
        [
         "2020-01-08 00:00:00",
         "1.1001518824263954",
         "38.05265876376754",
         "-1"
        ],
        [
         "2020-01-09 00:00:00",
         "1.0601767984672419",
         "36.906245102898396",
         "-1"
        ],
        [
         "2020-01-10 00:00:00",
         "1.121335884713488",
         "38.66017792842074",
         "-1"
        ],
        [
         "2020-01-13 00:00:00",
         "1.1624765663693413",
         "39.84001883922235",
         "-1"
        ],
        [
         "2020-01-14 00:00:00",
         "1.2171712696677204",
         "41.40856476404183",
         "-1"
        ],
        [
         "2020-01-15 00:00:00",
         "1.1907149064576756",
         "40.6498437509252",
         "-1"
        ],
        [
         "2020-01-16 00:00:00",
         "1.1735922252440116",
         "40.15879598541933",
         "-1"
        ],
        [
         "2020-01-17 00:00:00",
         "1.0953676936172347",
         "37.915456815358795",
         "-1"
        ],
        [
         "2020-01-21 00:00:00",
         "1.0922360702573535",
         "37.825647478019235",
         "-1"
        ],
        [
         "2020-01-22 00:00:00",
         "1.0919134976484346",
         "37.816396674547136",
         "-1"
        ],
        [
         "2020-01-23 00:00:00",
         "1.1322490183132081",
         "38.97314701322348",
         "-1"
        ],
        [
         "2020-01-24 00:00:00",
         "1.1750859936158258",
         "40.201634581315005",
         "-1"
        ],
        [
         "2020-01-27 00:00:00",
         "1.0839449635313412",
         "37.5878734179538",
         "-1"
        ],
        [
         "2020-01-28 00:00:00",
         "1.0815040303929204",
         "37.517871836518395",
         "-1"
        ],
        [
         "2020-01-29 00:00:00",
         "1.2562164696920433",
         "42.528311022611035",
         "-1"
        ],
        [
         "2020-01-30 00:00:00",
         "1.1492234110585517",
         "39.45994213160532",
         "-1"
        ],
        [
         "2020-01-31 00:00:00",
         "1.1003849014650544",
         "38.059341331574885",
         "-1"
        ],
        [
         "2020-02-03 00:00:00",
         "1.0040712707660255",
         "35.29723926634608",
         "-1"
        ],
        [
         "2020-02-04 00:00:00",
         "1.0748311035118991",
         "37.32650427010627",
         "-1"
        ],
        [
         "2020-02-05 00:00:00",
         "1.1711258571716179",
         "40.088064975728074",
         "-1"
        ],
        [
         "2020-02-06 00:00:00",
         "1.2368103907179577",
         "41.97177950756708",
         "-1"
        ],
        [
         "2020-02-07 00:00:00",
         "1.1145254808174963",
         "38.4648677679623",
         "-1"
        ],
        [
         "2020-02-10 00:00:00",
         "0.997360796967071",
         "35.104794921716646",
         "0"
        ],
        [
         "2020-02-11 00:00:00",
         "0.9824385250055135",
         "34.676850944277746",
         "0"
        ],
        [
         "2020-02-12 00:00:00",
         "1.0510722365016583",
         "36.645142606547424",
         "-1"
        ],
        [
         "2020-02-13 00:00:00",
         "1.0414075402577276",
         "36.36797646441964",
         "-1"
        ],
        [
         "2020-02-14 00:00:00",
         "0.9446405810132616",
         "33.59287375013949",
         "0"
        ],
        [
         "2020-02-18 00:00:00",
         "0.7502669096649219",
         "28.01858571675558",
         "0"
        ],
        [
         "2020-02-19 00:00:00",
         "0.6680898707942373",
         "25.66189573287987",
         "0"
        ],
        [
         "2020-02-20 00:00:00",
         "0.7579384104169559",
         "28.238590589553",
         "0"
        ],
        [
         "2020-02-21 00:00:00",
         "0.8521271298591018",
         "30.93975401371442",
         "0"
        ],
        [
         "2020-02-24 00:00:00",
         "0.8871261126531756",
         "31.943462024250394",
         "0"
        ],
        [
         "2020-02-25 00:00:00",
         "0.8741712036950259",
         "31.571938486736016",
         "0"
        ],
        [
         "2020-02-26 00:00:00",
         "0.8356523345849124",
         "30.46728645413026",
         "0"
        ],
        [
         "2020-02-27 00:00:00",
         "0.8832833503215717",
         "31.833258497550474",
         "0"
        ],
        [
         "2020-02-28 00:00:00",
         "0.7675562774827466",
         "28.514413754900502",
         "0"
        ],
        [
         "2020-03-02 00:00:00",
         "0.8568981885443726",
         "31.076579413735885",
         "0"
        ],
        [
         "2020-03-03 00:00:00",
         "0.7855776607818473",
         "29.03123468323072",
         "0"
        ],
        [
         "2020-03-04 00:00:00",
         "0.7410774257619638",
         "27.755047811658173",
         "0"
        ],
        [
         "2020-03-05 00:00:00",
         "0.665366121513936",
         "25.583783492092323",
         "0"
        ],
        [
         "2020-03-06 00:00:00",
         "0.5230320854934875",
         "21.501898799436916",
         "0"
        ],
        [
         "2020-03-09 00:00:00",
         "0.5211520105555079",
         "21.44798162456469",
         "0"
        ],
        [
         "2020-03-10 00:00:00",
         "0.5546661598544321",
         "22.409107275431452",
         "0"
        ],
        [
         "2020-03-11 00:00:00",
         "0.33369600526448695",
         "16.072079837912483",
         "0"
        ],
        [
         "2020-03-12 00:00:00",
         "0.44877147930069855",
         "19.37223789638975",
         "0"
        ],
        [
         "2020-03-13 00:00:00",
         "0.29149086072813085",
         "14.86171204219066",
         "0"
        ]
       ],
       "shape": {
        "columns": 3,
        "rows": 1373
       }
      },
      "text/html": [
       "<div>\n",
       "<style scoped>\n",
       "    .dataframe tbody tr th:only-of-type {\n",
       "        vertical-align: middle;\n",
       "    }\n",
       "\n",
       "    .dataframe tbody tr th {\n",
       "        vertical-align: top;\n",
       "    }\n",
       "\n",
       "    .dataframe thead th {\n",
       "        text-align: right;\n",
       "    }\n",
       "</style>\n",
       "<table border=\"1\" class=\"dataframe\">\n",
       "  <thead>\n",
       "    <tr style=\"text-align: right;\">\n",
       "      <th></th>\n",
       "      <th>signal</th>\n",
       "      <th>position</th>\n",
       "      <th>side</th>\n",
       "    </tr>\n",
       "    <tr>\n",
       "      <th>Date</th>\n",
       "      <th></th>\n",
       "      <th></th>\n",
       "      <th></th>\n",
       "    </tr>\n",
       "  </thead>\n",
       "  <tbody>\n",
       "    <tr>\n",
       "      <th>2020-01-02</th>\n",
       "      <td>1.032166</td>\n",
       "      <td>36.102941</td>\n",
       "      <td>-1</td>\n",
       "    </tr>\n",
       "    <tr>\n",
       "      <th>2020-01-03</th>\n",
       "      <td>1.021551</td>\n",
       "      <td>35.798536</td>\n",
       "      <td>-1</td>\n",
       "    </tr>\n",
       "    <tr>\n",
       "      <th>2020-01-06</th>\n",
       "      <td>1.004969</td>\n",
       "      <td>35.322977</td>\n",
       "      <td>-1</td>\n",
       "    </tr>\n",
       "    <tr>\n",
       "      <th>2020-01-07</th>\n",
       "      <td>1.065534</td>\n",
       "      <td>37.059875</td>\n",
       "      <td>-1</td>\n",
       "    </tr>\n",
       "    <tr>\n",
       "      <th>2020-01-08</th>\n",
       "      <td>1.100152</td>\n",
       "      <td>38.052659</td>\n",
       "      <td>-1</td>\n",
       "    </tr>\n",
       "    <tr>\n",
       "      <th>...</th>\n",
       "      <td>...</td>\n",
       "      <td>...</td>\n",
       "      <td>...</td>\n",
       "    </tr>\n",
       "    <tr>\n",
       "      <th>2025-06-12</th>\n",
       "      <td>0.473394</td>\n",
       "      <td>20.078380</td>\n",
       "      <td>0</td>\n",
       "    </tr>\n",
       "    <tr>\n",
       "      <th>2025-06-13</th>\n",
       "      <td>0.382610</td>\n",
       "      <td>17.474852</td>\n",
       "      <td>0</td>\n",
       "    </tr>\n",
       "    <tr>\n",
       "      <th>2025-06-16</th>\n",
       "      <td>0.019805</td>\n",
       "      <td>7.070263</td>\n",
       "      <td>0</td>\n",
       "    </tr>\n",
       "    <tr>\n",
       "      <th>2025-06-17</th>\n",
       "      <td>-0.185307</td>\n",
       "      <td>1.188003</td>\n",
       "      <td>0</td>\n",
       "    </tr>\n",
       "    <tr>\n",
       "      <th>2025-06-18</th>\n",
       "      <td>-0.215428</td>\n",
       "      <td>0.324195</td>\n",
       "      <td>0</td>\n",
       "    </tr>\n",
       "  </tbody>\n",
       "</table>\n",
       "<p>1373 rows × 3 columns</p>\n",
       "</div>"
      ],
      "text/plain": [
       "              signal   position  side\n",
       "Date                                 \n",
       "2020-01-02  1.032166  36.102941    -1\n",
       "2020-01-03  1.021551  35.798536    -1\n",
       "2020-01-06  1.004969  35.322977    -1\n",
       "2020-01-07  1.065534  37.059875    -1\n",
       "2020-01-08  1.100152  38.052659    -1\n",
       "...              ...        ...   ...\n",
       "2025-06-12  0.473394  20.078380     0\n",
       "2025-06-13  0.382610  17.474852     0\n",
       "2025-06-16  0.019805   7.070263     0\n",
       "2025-06-17 -0.185307   1.188003     0\n",
       "2025-06-18 -0.215428   0.324195     0\n",
       "\n",
       "[1373 rows x 3 columns]"
      ]
     },
     "execution_count": 735,
     "metadata": {},
     "output_type": "execute_result"
    }
   ],
   "source": [
    "bt_df"
   ]
  },
  {
   "cell_type": "code",
   "execution_count": null,
   "id": "ffdeef53",
   "metadata": {},
   "outputs": [],
   "source": [
    "# Neeed to add dependency for train_test_split\n",
    "train_close, test_close = train_test_split(\n",
    "    df[[f'{highest_p_val[0]}', f'{highest_p_val[1]}']],\n",
    "    test_size=0.2,\n",
    "    shuffle=False,\n",
    "    random_state=0\n",
    ")"
   ]
  },
  {
   "cell_type": "code",
   "execution_count": 746,
   "id": "1b3594c1",
   "metadata": {},
   "outputs": [
    {
     "name": "stdout",
     "output_type": "stream",
     "text": [
      "Hedge Ratio =  0.5828323628650487\n"
     ]
    },
    {
     "name": "stderr",
     "output_type": "stream",
     "text": [
      "/var/folders/dl/q12jywhx4svgdkc33pp48gq80000gn/T/ipykernel_52702/2740078049.py:2: FutureWarning: Series.__getitem__ treating keys as positions is deprecated. In a future version, integer keys will always be treated as labels (consistent with DataFrame behavior). To access a value by position, use `ser.iloc[pos]`\n",
      "  print('Hedge Ratio = ', model.params[0])\n"
     ]
    }
   ],
   "source": [
    "model = sm.OLS(train_close[f'{highest_p_val[0]}'], train_close[f'{highest_p_val[1]}']).fit()\n",
    "print('Hedge Ratio = ', model.params[0])"
   ]
  },
  {
   "cell_type": "code",
   "execution_count": 747,
   "id": "d8c247df",
   "metadata": {},
   "outputs": [
    {
     "data": {
      "text/html": [
       "<table class=\"simpletable\">\n",
       "<caption>OLS Regression Results</caption>\n",
       "<tr>\n",
       "  <th>Dep. Variable:</th>           <td>AMD</td>       <th>  R-squared (uncentered):</th>      <td>   0.968</td> \n",
       "</tr>\n",
       "<tr>\n",
       "  <th>Model:</th>                   <td>OLS</td>       <th>  Adj. R-squared (uncentered):</th> <td>   0.968</td> \n",
       "</tr>\n",
       "<tr>\n",
       "  <th>Method:</th>             <td>Least Squares</td>  <th>  F-statistic:       </th>          <td>3.303e+04</td>\n",
       "</tr>\n",
       "<tr>\n",
       "  <th>Date:</th>             <td>Fri, 20 Jun 2025</td> <th>  Prob (F-statistic):</th>           <td>  0.00</td>  \n",
       "</tr>\n",
       "<tr>\n",
       "  <th>Time:</th>                 <td>21:53:53</td>     <th>  Log-Likelihood:    </th>          <td> -4751.4</td> \n",
       "</tr>\n",
       "<tr>\n",
       "  <th>No. Observations:</th>      <td>  1098</td>      <th>  AIC:               </th>          <td>   9505.</td> \n",
       "</tr>\n",
       "<tr>\n",
       "  <th>Df Residuals:</th>          <td>  1097</td>      <th>  BIC:               </th>          <td>   9510.</td> \n",
       "</tr>\n",
       "<tr>\n",
       "  <th>Df Model:</th>              <td>     1</td>      <th>                     </th>              <td> </td>    \n",
       "</tr>\n",
       "<tr>\n",
       "  <th>Covariance Type:</th>      <td>nonrobust</td>    <th>                     </th>              <td> </td>    \n",
       "</tr>\n",
       "</table>\n",
       "<table class=\"simpletable\">\n",
       "<tr>\n",
       "    <td></td>      <th>coef</th>     <th>std err</th>      <th>t</th>      <th>P>|t|</th>  <th>[0.025</th>    <th>0.975]</th>  \n",
       "</tr>\n",
       "<tr>\n",
       "  <th>NXPI</th> <td>    0.5828</td> <td>    0.003</td> <td>  181.735</td> <td> 0.000</td> <td>    0.577</td> <td>    0.589</td>\n",
       "</tr>\n",
       "</table>\n",
       "<table class=\"simpletable\">\n",
       "<tr>\n",
       "  <th>Omnibus:</th>       <td>109.351</td> <th>  Durbin-Watson:     </th> <td>   0.022</td>\n",
       "</tr>\n",
       "<tr>\n",
       "  <th>Prob(Omnibus):</th> <td> 0.000</td>  <th>  Jarque-Bera (JB):  </th> <td> 145.851</td>\n",
       "</tr>\n",
       "<tr>\n",
       "  <th>Skew:</th>          <td> 0.793</td>  <th>  Prob(JB):          </th> <td>2.13e-32</td>\n",
       "</tr>\n",
       "<tr>\n",
       "  <th>Kurtosis:</th>      <td> 3.819</td>  <th>  Cond. No.          </th> <td>    1.00</td>\n",
       "</tr>\n",
       "</table><br/><br/>Notes:<br/>[1] R² is computed without centering (uncentered) since the model does not contain a constant.<br/>[2] Standard Errors assume that the covariance matrix of the errors is correctly specified."
      ],
      "text/latex": [
       "\\begin{center}\n",
       "\\begin{tabular}{lclc}\n",
       "\\toprule\n",
       "\\textbf{Dep. Variable:}    &       AMD        & \\textbf{  R-squared (uncentered):}      &     0.968   \\\\\n",
       "\\textbf{Model:}            &       OLS        & \\textbf{  Adj. R-squared (uncentered):} &     0.968   \\\\\n",
       "\\textbf{Method:}           &  Least Squares   & \\textbf{  F-statistic:       }          & 3.303e+04   \\\\\n",
       "\\textbf{Date:}             & Fri, 20 Jun 2025 & \\textbf{  Prob (F-statistic):}          &     0.00    \\\\\n",
       "\\textbf{Time:}             &     21:53:53     & \\textbf{  Log-Likelihood:    }          &   -4751.4   \\\\\n",
       "\\textbf{No. Observations:} &        1098      & \\textbf{  AIC:               }          &     9505.   \\\\\n",
       "\\textbf{Df Residuals:}     &        1097      & \\textbf{  BIC:               }          &     9510.   \\\\\n",
       "\\textbf{Df Model:}         &           1      & \\textbf{                     }          &             \\\\\n",
       "\\textbf{Covariance Type:}  &    nonrobust     & \\textbf{                     }          &             \\\\\n",
       "\\bottomrule\n",
       "\\end{tabular}\n",
       "\\begin{tabular}{lcccccc}\n",
       "              & \\textbf{coef} & \\textbf{std err} & \\textbf{t} & \\textbf{P$> |$t$|$} & \\textbf{[0.025} & \\textbf{0.975]}  \\\\\n",
       "\\midrule\n",
       "\\textbf{NXPI} &       0.5828  &        0.003     &   181.735  &         0.000        &        0.577    &        0.589     \\\\\n",
       "\\bottomrule\n",
       "\\end{tabular}\n",
       "\\begin{tabular}{lclc}\n",
       "\\textbf{Omnibus:}       & 109.351 & \\textbf{  Durbin-Watson:     } &    0.022  \\\\\n",
       "\\textbf{Prob(Omnibus):} &   0.000 & \\textbf{  Jarque-Bera (JB):  } &  145.851  \\\\\n",
       "\\textbf{Skew:}          &   0.793 & \\textbf{  Prob(JB):          } & 2.13e-32  \\\\\n",
       "\\textbf{Kurtosis:}      &   3.819 & \\textbf{  Cond. No.          } &     1.00  \\\\\n",
       "\\bottomrule\n",
       "\\end{tabular}\n",
       "%\\caption{OLS Regression Results}\n",
       "\\end{center}\n",
       "\n",
       "Notes: \\newline\n",
       " [1] R² is computed without centering (uncentered) since the model does not contain a constant. \\newline\n",
       " [2] Standard Errors assume that the covariance matrix of the errors is correctly specified."
      ],
      "text/plain": [
       "<class 'statsmodels.iolib.summary.Summary'>\n",
       "\"\"\"\n",
       "                                 OLS Regression Results                                \n",
       "=======================================================================================\n",
       "Dep. Variable:                    AMD   R-squared (uncentered):                   0.968\n",
       "Model:                            OLS   Adj. R-squared (uncentered):              0.968\n",
       "Method:                 Least Squares   F-statistic:                          3.303e+04\n",
       "Date:                Fri, 20 Jun 2025   Prob (F-statistic):                        0.00\n",
       "Time:                        21:53:53   Log-Likelihood:                         -4751.4\n",
       "No. Observations:                1098   AIC:                                      9505.\n",
       "Df Residuals:                    1097   BIC:                                      9510.\n",
       "Df Model:                           1                                                  \n",
       "Covariance Type:            nonrobust                                                  \n",
       "==============================================================================\n",
       "                 coef    std err          t      P>|t|      [0.025      0.975]\n",
       "------------------------------------------------------------------------------\n",
       "NXPI           0.5828      0.003    181.735      0.000       0.577       0.589\n",
       "==============================================================================\n",
       "Omnibus:                      109.351   Durbin-Watson:                   0.022\n",
       "Prob(Omnibus):                  0.000   Jarque-Bera (JB):              145.851\n",
       "Skew:                           0.793   Prob(JB):                     2.13e-32\n",
       "Kurtosis:                       3.819   Cond. No.                         1.00\n",
       "==============================================================================\n",
       "\n",
       "Notes:\n",
       "[1] R² is computed without centering (uncentered) since the model does not contain a constant.\n",
       "[2] Standard Errors assume that the covariance matrix of the errors is correctly specified.\n",
       "\"\"\""
      ]
     },
     "execution_count": 747,
     "metadata": {},
     "output_type": "execute_result"
    }
   ],
   "source": [
    "model.summary()"
   ]
  },
  {
   "cell_type": "code",
   "execution_count": 748,
   "id": "c5839edf",
   "metadata": {},
   "outputs": [
    {
     "data": {
      "text/html": [
       "<table class=\"simpletable\">\n",
       "<caption>OLS Regression Results</caption>\n",
       "<tr>\n",
       "  <th>Dep. Variable:</th>          <td>NXPI</td>       <th>  R-squared (uncentered):</th>      <td>   0.975</td> \n",
       "</tr>\n",
       "<tr>\n",
       "  <th>Model:</th>                   <td>OLS</td>       <th>  Adj. R-squared (uncentered):</th> <td>   0.975</td> \n",
       "</tr>\n",
       "<tr>\n",
       "  <th>Method:</th>             <td>Least Squares</td>  <th>  F-statistic:       </th>          <td>5.289e+04</td>\n",
       "</tr>\n",
       "<tr>\n",
       "  <th>Date:</th>             <td>Fri, 20 Jun 2025</td> <th>  Prob (F-statistic):</th>           <td>  0.00</td>  \n",
       "</tr>\n",
       "<tr>\n",
       "  <th>Time:</th>                 <td>21:54:55</td>     <th>  Log-Likelihood:    </th>          <td> -6590.6</td> \n",
       "</tr>\n",
       "<tr>\n",
       "  <th>No. Observations:</th>      <td>  1373</td>      <th>  AIC:               </th>          <td>1.318e+04</td>\n",
       "</tr>\n",
       "<tr>\n",
       "  <th>Df Residuals:</th>          <td>  1372</td>      <th>  BIC:               </th>          <td>1.319e+04</td>\n",
       "</tr>\n",
       "<tr>\n",
       "  <th>Df Model:</th>              <td>     1</td>      <th>                     </th>              <td> </td>    \n",
       "</tr>\n",
       "<tr>\n",
       "  <th>Covariance Type:</th>      <td>nonrobust</td>    <th>                     </th>              <td> </td>    \n",
       "</tr>\n",
       "</table>\n",
       "<table class=\"simpletable\">\n",
       "<tr>\n",
       "   <td></td>      <th>coef</th>     <th>std err</th>      <th>t</th>      <th>P>|t|</th>  <th>[0.025</th>    <th>0.975]</th>  \n",
       "</tr>\n",
       "<tr>\n",
       "  <th>AMD</th> <td>    1.6652</td> <td>    0.007</td> <td>  229.981</td> <td> 0.000</td> <td>    1.651</td> <td>    1.679</td>\n",
       "</tr>\n",
       "</table>\n",
       "<table class=\"simpletable\">\n",
       "<tr>\n",
       "  <th>Omnibus:</th>       <td>108.443</td> <th>  Durbin-Watson:     </th> <td>   0.027</td>\n",
       "</tr>\n",
       "<tr>\n",
       "  <th>Prob(Omnibus):</th> <td> 0.000</td>  <th>  Jarque-Bera (JB):  </th> <td> 140.676</td>\n",
       "</tr>\n",
       "<tr>\n",
       "  <th>Skew:</th>          <td>-0.677</td>  <th>  Prob(JB):          </th> <td>2.83e-31</td>\n",
       "</tr>\n",
       "<tr>\n",
       "  <th>Kurtosis:</th>      <td> 3.791</td>  <th>  Cond. No.          </th> <td>    1.00</td>\n",
       "</tr>\n",
       "</table><br/><br/>Notes:<br/>[1] R² is computed without centering (uncentered) since the model does not contain a constant.<br/>[2] Standard Errors assume that the covariance matrix of the errors is correctly specified."
      ],
      "text/latex": [
       "\\begin{center}\n",
       "\\begin{tabular}{lclc}\n",
       "\\toprule\n",
       "\\textbf{Dep. Variable:}    &       NXPI       & \\textbf{  R-squared (uncentered):}      &     0.975   \\\\\n",
       "\\textbf{Model:}            &       OLS        & \\textbf{  Adj. R-squared (uncentered):} &     0.975   \\\\\n",
       "\\textbf{Method:}           &  Least Squares   & \\textbf{  F-statistic:       }          & 5.289e+04   \\\\\n",
       "\\textbf{Date:}             & Fri, 20 Jun 2025 & \\textbf{  Prob (F-statistic):}          &     0.00    \\\\\n",
       "\\textbf{Time:}             &     21:54:55     & \\textbf{  Log-Likelihood:    }          &   -6590.6   \\\\\n",
       "\\textbf{No. Observations:} &        1373      & \\textbf{  AIC:               }          & 1.318e+04   \\\\\n",
       "\\textbf{Df Residuals:}     &        1372      & \\textbf{  BIC:               }          & 1.319e+04   \\\\\n",
       "\\textbf{Df Model:}         &           1      & \\textbf{                     }          &             \\\\\n",
       "\\textbf{Covariance Type:}  &    nonrobust     & \\textbf{                     }          &             \\\\\n",
       "\\bottomrule\n",
       "\\end{tabular}\n",
       "\\begin{tabular}{lcccccc}\n",
       "             & \\textbf{coef} & \\textbf{std err} & \\textbf{t} & \\textbf{P$> |$t$|$} & \\textbf{[0.025} & \\textbf{0.975]}  \\\\\n",
       "\\midrule\n",
       "\\textbf{AMD} &       1.6652  &        0.007     &   229.981  &         0.000        &        1.651    &        1.679     \\\\\n",
       "\\bottomrule\n",
       "\\end{tabular}\n",
       "\\begin{tabular}{lclc}\n",
       "\\textbf{Omnibus:}       & 108.443 & \\textbf{  Durbin-Watson:     } &    0.027  \\\\\n",
       "\\textbf{Prob(Omnibus):} &   0.000 & \\textbf{  Jarque-Bera (JB):  } &  140.676  \\\\\n",
       "\\textbf{Skew:}          &  -0.677 & \\textbf{  Prob(JB):          } & 2.83e-31  \\\\\n",
       "\\textbf{Kurtosis:}      &   3.791 & \\textbf{  Cond. No.          } &     1.00  \\\\\n",
       "\\bottomrule\n",
       "\\end{tabular}\n",
       "%\\caption{OLS Regression Results}\n",
       "\\end{center}\n",
       "\n",
       "Notes: \\newline\n",
       " [1] R² is computed without centering (uncentered) since the model does not contain a constant. \\newline\n",
       " [2] Standard Errors assume that the covariance matrix of the errors is correctly specified."
      ],
      "text/plain": [
       "<class 'statsmodels.iolib.summary.Summary'>\n",
       "\"\"\"\n",
       "                                 OLS Regression Results                                \n",
       "=======================================================================================\n",
       "Dep. Variable:                   NXPI   R-squared (uncentered):                   0.975\n",
       "Model:                            OLS   Adj. R-squared (uncentered):              0.975\n",
       "Method:                 Least Squares   F-statistic:                          5.289e+04\n",
       "Date:                Fri, 20 Jun 2025   Prob (F-statistic):                        0.00\n",
       "Time:                        21:54:55   Log-Likelihood:                         -6590.6\n",
       "No. Observations:                1373   AIC:                                  1.318e+04\n",
       "Df Residuals:                    1372   BIC:                                  1.319e+04\n",
       "Df Model:                           1                                                  \n",
       "Covariance Type:            nonrobust                                                  \n",
       "==============================================================================\n",
       "                 coef    std err          t      P>|t|      [0.025      0.975]\n",
       "------------------------------------------------------------------------------\n",
       "AMD            1.6652      0.007    229.981      0.000       1.651       1.679\n",
       "==============================================================================\n",
       "Omnibus:                      108.443   Durbin-Watson:                   0.027\n",
       "Prob(Omnibus):                  0.000   Jarque-Bera (JB):              140.676\n",
       "Skew:                          -0.677   Prob(JB):                     2.83e-31\n",
       "Kurtosis:                       3.791   Cond. No.                         1.00\n",
       "==============================================================================\n",
       "\n",
       "Notes:\n",
       "[1] R² is computed without centering (uncentered) since the model does not contain a constant.\n",
       "[2] Standard Errors assume that the covariance matrix of the errors is correctly specified.\n",
       "\"\"\""
      ]
     },
     "execution_count": 748,
     "metadata": {},
     "output_type": "execute_result"
    }
   ],
   "source": [
    "results.summary()"
   ]
  },
  {
   "cell_type": "code",
   "execution_count": 578,
   "id": "f0b0d954",
   "metadata": {},
   "outputs": [],
   "source": [
    "df.columns = ['close', 'high', 'low', 'open', 'volume']"
   ]
  },
  {
   "cell_type": "code",
   "execution_count": 579,
   "id": "047487fb",
   "metadata": {},
   "outputs": [
    {
     "data": {
      "text/markdown": [
       "## **Feature selection and why:** \n",
       "\n",
       "### **5-day moving average:**\n",
       "1. Captures short-term trends in stock prices.\n",
       "2. Helps smooth out daily price fluctuations.\n",
       "\n",
       "### **15-day moving average:**\n",
       "1. Captures medium-term trends.\n",
       "2. Reduces noise from daily price movements typically seen in the 3-day moving average.\n",
       "\n",
       "### **50-day moving average:**\n",
       "1. Captures long-term trends in stock prices.\n",
       "2. Provides a broader perspective on stock performance.\n",
       "\n",
       "### **5-day volatility:**\n",
       "1. Measures the variability of stock prices over a 5-day period.\n",
       "2. Indicates the risk associated with the stock.\n",
       "\n"
      ],
      "text/plain": [
       "<IPython.core.display.Markdown object>"
      ]
     },
     "metadata": {},
     "output_type": "display_data"
    }
   ],
   "source": [
    "%%markdown \n",
    "## **Feature selection and why:** \n",
    "\n",
    "### **5-day moving average:**\n",
    "1. Captures short-term trends in stock prices.\n",
    "2. Helps smooth out daily price fluctuations.\n",
    "\n",
    "### **15-day moving average:**\n",
    "1. Captures medium-term trends.\n",
    "2. Reduces noise from daily price movements typically seen in the 3-day moving average.\n",
    "\n",
    "### **50-day moving average:**\n",
    "1. Captures long-term trends in stock prices.\n",
    "2. Provides a broader perspective on stock performance.\n",
    "\n",
    "### **5-day volatility:**\n",
    "1. Measures the variability of stock prices over a 5-day period.\n",
    "2. Indicates the risk associated with the stock.\n",
    "\n"
   ]
  },
  {
   "cell_type": "code",
   "execution_count": 580,
   "id": "f96eff10",
   "metadata": {},
   "outputs": [],
   "source": [
    "df['5MA_Returns'] = df['close'].rolling(window=5).mean().pct_change(periods=5)\n",
    "df['15MA_Returns'] = df['close'].rolling(window=15).mean().pct_change(periods=15)\n",
    "df['50MA_Returns'] = df['close'].rolling(window=50).mean().pct_change(periods=50)\n",
    "df['5Volatility'] = df['close'].rolling(window=5).std()\n",
    "df['next_close'] = df['close'].shift(-1)\n",
    "df['returns'] = df['close'].pct_change()\n",
    "df.dropna(inplace=True)"
   ]
  },
  {
   "cell_type": "code",
   "execution_count": 581,
   "id": "2308fda7",
   "metadata": {},
   "outputs": [
    {
     "data": {
      "application/vnd.microsoft.datawrangler.viewer.v0+json": {
       "columns": [
        {
         "name": "index",
         "rawType": "object",
         "type": "string"
        },
        {
         "name": "close",
         "rawType": "float64",
         "type": "float"
        },
        {
         "name": "high",
         "rawType": "float64",
         "type": "float"
        },
        {
         "name": "low",
         "rawType": "float64",
         "type": "float"
        },
        {
         "name": "open",
         "rawType": "float64",
         "type": "float"
        },
        {
         "name": "volume",
         "rawType": "float64",
         "type": "float"
        },
        {
         "name": "5MA_Returns",
         "rawType": "float64",
         "type": "float"
        },
        {
         "name": "15MA_Returns",
         "rawType": "float64",
         "type": "float"
        },
        {
         "name": "50MA_Returns",
         "rawType": "float64",
         "type": "float"
        },
        {
         "name": "5Volatility",
         "rawType": "float64",
         "type": "float"
        },
        {
         "name": "next_close",
         "rawType": "float64",
         "type": "float"
        },
        {
         "name": "returns",
         "rawType": "float64",
         "type": "float"
        }
       ],
       "ref": "8c49a6f7-b3e7-4727-bd20-ae6d133d0d51",
       "rows": [
        [
         "close",
         "1.0",
         "0.999580603441082",
         "0.9996698389663685",
         "0.9991411371773439",
         "-0.32049602880026934",
         "0.04122767824166076",
         "0.030575057581136954",
         "0.05710611714158228",
         "0.7776348192601797",
         "0.9986670887381496",
         "0.020591495858332542"
        ],
        [
         "high",
         "0.999580603441082",
         "1.0",
         "0.9995225554960134",
         "0.9996893586765935",
         "-0.3145094068604558",
         "0.03741382571391591",
         "0.029413522745456992",
         "0.05755726669971839",
         "0.7813749479722154",
         "0.9984055056356187",
         "0.006225756405846092"
        ],
        [
         "low",
         "0.9996698389663685",
         "0.9995225554960134",
         "1.0",
         "0.9995632082665943",
         "-0.32522509869041866",
         "0.04349760762641825",
         "0.032393984755814384",
         "0.05794949284255526",
         "0.7716812117883574",
         "0.9984264461911705",
         "0.009358314309442726"
        ],
        [
         "open",
         "0.9991411371773439",
         "0.9996893586765935",
         "0.9995632082665943",
         "1.0",
         "-0.3189393784800361",
         "0.03955785984804791",
         "0.030963707169737356",
         "0.05842740048657028",
         "0.7767047659834536",
         "0.9980349932742947",
         "-0.003874337342121494"
        ],
        [
         "volume",
         "-0.32049602880026934",
         "-0.3145094068604558",
         "-0.32522509869041866",
         "-0.3189393784800361",
         "1.0",
         "0.017606349115175685",
         "0.0589312035042088",
         "0.029818043323326583",
         "-0.0848417684810205",
         "-0.3187137614189742",
         "0.058307998144745854"
        ],
        [
         "5MA_Returns",
         "0.04122767824166076",
         "0.03741382571391591",
         "0.04349760762641825",
         "0.03955785984804791",
         "0.017606349115175685",
         "1.0",
         "0.3083316234848428",
         "0.0967847458237059",
         "-0.035791932434618326",
         "0.04048956814484304",
         "0.09725258387043911"
        ],
        [
         "15MA_Returns",
         "0.030575057581136954",
         "0.029413522745456992",
         "0.032393984755814384",
         "0.030963707169737356",
         "0.0589312035042088",
         "0.3083316234848428",
         "1.0",
         "0.29289576437048587",
         "-0.03428251693837503",
         "0.030683964793058384",
         "0.02092379504140306"
        ],
        [
         "50MA_Returns",
         "0.05710611714158228",
         "0.05755726669971839",
         "0.05794949284255526",
         "0.05842740048657028",
         "0.029818043323326583",
         "0.0967847458237059",
         "0.29289576437048587",
         "1.0",
         "-0.004295114682404185",
         "0.05725980129867199",
         "0.024348173917189873"
        ],
        [
         "5Volatility",
         "0.7776348192601797",
         "0.7813749479722154",
         "0.7716812117883574",
         "0.7767047659834536",
         "-0.0848417684810205",
         "-0.035791932434618326",
         "-0.03428251693837503",
         "-0.004295114682404185",
         "1.0",
         "0.7777224429893664",
         "0.007469471220217504"
        ],
        [
         "next_close",
         "0.9986670887381496",
         "0.9984055056356187",
         "0.9984264461911705",
         "0.9980349932742947",
         "-0.3187137614189742",
         "0.04048956814484304",
         "0.030683964793058384",
         "0.05725980129867199",
         "0.7777224429893664",
         "1.0",
         "0.017540809704189666"
        ],
        [
         "returns",
         "0.020591495858332542",
         "0.006225756405846092",
         "0.009358314309442726",
         "-0.003874337342121494",
         "0.058307998144745854",
         "0.09725258387043911",
         "0.02092379504140306",
         "0.024348173917189873",
         "0.007469471220217504",
         "0.017540809704189666",
         "1.0"
        ]
       ],
       "shape": {
        "columns": 11,
        "rows": 11
       }
      },
      "text/html": [
       "<div>\n",
       "<style scoped>\n",
       "    .dataframe tbody tr th:only-of-type {\n",
       "        vertical-align: middle;\n",
       "    }\n",
       "\n",
       "    .dataframe tbody tr th {\n",
       "        vertical-align: top;\n",
       "    }\n",
       "\n",
       "    .dataframe thead th {\n",
       "        text-align: right;\n",
       "    }\n",
       "</style>\n",
       "<table border=\"1\" class=\"dataframe\">\n",
       "  <thead>\n",
       "    <tr style=\"text-align: right;\">\n",
       "      <th></th>\n",
       "      <th>close</th>\n",
       "      <th>high</th>\n",
       "      <th>low</th>\n",
       "      <th>open</th>\n",
       "      <th>volume</th>\n",
       "      <th>5MA_Returns</th>\n",
       "      <th>15MA_Returns</th>\n",
       "      <th>50MA_Returns</th>\n",
       "      <th>5Volatility</th>\n",
       "      <th>next_close</th>\n",
       "      <th>returns</th>\n",
       "    </tr>\n",
       "  </thead>\n",
       "  <tbody>\n",
       "    <tr>\n",
       "      <th>close</th>\n",
       "      <td>1.000000</td>\n",
       "      <td>0.999581</td>\n",
       "      <td>0.999670</td>\n",
       "      <td>0.999141</td>\n",
       "      <td>-0.320496</td>\n",
       "      <td>0.041228</td>\n",
       "      <td>0.030575</td>\n",
       "      <td>0.057106</td>\n",
       "      <td>0.777635</td>\n",
       "      <td>0.998667</td>\n",
       "      <td>0.020591</td>\n",
       "    </tr>\n",
       "    <tr>\n",
       "      <th>high</th>\n",
       "      <td>0.999581</td>\n",
       "      <td>1.000000</td>\n",
       "      <td>0.999523</td>\n",
       "      <td>0.999689</td>\n",
       "      <td>-0.314509</td>\n",
       "      <td>0.037414</td>\n",
       "      <td>0.029414</td>\n",
       "      <td>0.057557</td>\n",
       "      <td>0.781375</td>\n",
       "      <td>0.998406</td>\n",
       "      <td>0.006226</td>\n",
       "    </tr>\n",
       "    <tr>\n",
       "      <th>low</th>\n",
       "      <td>0.999670</td>\n",
       "      <td>0.999523</td>\n",
       "      <td>1.000000</td>\n",
       "      <td>0.999563</td>\n",
       "      <td>-0.325225</td>\n",
       "      <td>0.043498</td>\n",
       "      <td>0.032394</td>\n",
       "      <td>0.057949</td>\n",
       "      <td>0.771681</td>\n",
       "      <td>0.998426</td>\n",
       "      <td>0.009358</td>\n",
       "    </tr>\n",
       "    <tr>\n",
       "      <th>open</th>\n",
       "      <td>0.999141</td>\n",
       "      <td>0.999689</td>\n",
       "      <td>0.999563</td>\n",
       "      <td>1.000000</td>\n",
       "      <td>-0.318939</td>\n",
       "      <td>0.039558</td>\n",
       "      <td>0.030964</td>\n",
       "      <td>0.058427</td>\n",
       "      <td>0.776705</td>\n",
       "      <td>0.998035</td>\n",
       "      <td>-0.003874</td>\n",
       "    </tr>\n",
       "    <tr>\n",
       "      <th>volume</th>\n",
       "      <td>-0.320496</td>\n",
       "      <td>-0.314509</td>\n",
       "      <td>-0.325225</td>\n",
       "      <td>-0.318939</td>\n",
       "      <td>1.000000</td>\n",
       "      <td>0.017606</td>\n",
       "      <td>0.058931</td>\n",
       "      <td>0.029818</td>\n",
       "      <td>-0.084842</td>\n",
       "      <td>-0.318714</td>\n",
       "      <td>0.058308</td>\n",
       "    </tr>\n",
       "    <tr>\n",
       "      <th>5MA_Returns</th>\n",
       "      <td>0.041228</td>\n",
       "      <td>0.037414</td>\n",
       "      <td>0.043498</td>\n",
       "      <td>0.039558</td>\n",
       "      <td>0.017606</td>\n",
       "      <td>1.000000</td>\n",
       "      <td>0.308332</td>\n",
       "      <td>0.096785</td>\n",
       "      <td>-0.035792</td>\n",
       "      <td>0.040490</td>\n",
       "      <td>0.097253</td>\n",
       "    </tr>\n",
       "    <tr>\n",
       "      <th>15MA_Returns</th>\n",
       "      <td>0.030575</td>\n",
       "      <td>0.029414</td>\n",
       "      <td>0.032394</td>\n",
       "      <td>0.030964</td>\n",
       "      <td>0.058931</td>\n",
       "      <td>0.308332</td>\n",
       "      <td>1.000000</td>\n",
       "      <td>0.292896</td>\n",
       "      <td>-0.034283</td>\n",
       "      <td>0.030684</td>\n",
       "      <td>0.020924</td>\n",
       "    </tr>\n",
       "    <tr>\n",
       "      <th>50MA_Returns</th>\n",
       "      <td>0.057106</td>\n",
       "      <td>0.057557</td>\n",
       "      <td>0.057949</td>\n",
       "      <td>0.058427</td>\n",
       "      <td>0.029818</td>\n",
       "      <td>0.096785</td>\n",
       "      <td>0.292896</td>\n",
       "      <td>1.000000</td>\n",
       "      <td>-0.004295</td>\n",
       "      <td>0.057260</td>\n",
       "      <td>0.024348</td>\n",
       "    </tr>\n",
       "    <tr>\n",
       "      <th>5Volatility</th>\n",
       "      <td>0.777635</td>\n",
       "      <td>0.781375</td>\n",
       "      <td>0.771681</td>\n",
       "      <td>0.776705</td>\n",
       "      <td>-0.084842</td>\n",
       "      <td>-0.035792</td>\n",
       "      <td>-0.034283</td>\n",
       "      <td>-0.004295</td>\n",
       "      <td>1.000000</td>\n",
       "      <td>0.777722</td>\n",
       "      <td>0.007469</td>\n",
       "    </tr>\n",
       "    <tr>\n",
       "      <th>next_close</th>\n",
       "      <td>0.998667</td>\n",
       "      <td>0.998406</td>\n",
       "      <td>0.998426</td>\n",
       "      <td>0.998035</td>\n",
       "      <td>-0.318714</td>\n",
       "      <td>0.040490</td>\n",
       "      <td>0.030684</td>\n",
       "      <td>0.057260</td>\n",
       "      <td>0.777722</td>\n",
       "      <td>1.000000</td>\n",
       "      <td>0.017541</td>\n",
       "    </tr>\n",
       "    <tr>\n",
       "      <th>returns</th>\n",
       "      <td>0.020591</td>\n",
       "      <td>0.006226</td>\n",
       "      <td>0.009358</td>\n",
       "      <td>-0.003874</td>\n",
       "      <td>0.058308</td>\n",
       "      <td>0.097253</td>\n",
       "      <td>0.020924</td>\n",
       "      <td>0.024348</td>\n",
       "      <td>0.007469</td>\n",
       "      <td>0.017541</td>\n",
       "      <td>1.000000</td>\n",
       "    </tr>\n",
       "  </tbody>\n",
       "</table>\n",
       "</div>"
      ],
      "text/plain": [
       "                 close      high       low  ...  5Volatility  next_close   returns\n",
       "close         1.000000  0.999581  0.999670  ...     0.777635    0.998667  0.020591\n",
       "high          0.999581  1.000000  0.999523  ...     0.781375    0.998406  0.006226\n",
       "low           0.999670  0.999523  1.000000  ...     0.771681    0.998426  0.009358\n",
       "open          0.999141  0.999689  0.999563  ...     0.776705    0.998035 -0.003874\n",
       "volume       -0.320496 -0.314509 -0.325225  ...    -0.084842   -0.318714  0.058308\n",
       "5MA_Returns   0.041228  0.037414  0.043498  ...    -0.035792    0.040490  0.097253\n",
       "15MA_Returns  0.030575  0.029414  0.032394  ...    -0.034283    0.030684  0.020924\n",
       "50MA_Returns  0.057106  0.057557  0.057949  ...    -0.004295    0.057260  0.024348\n",
       "5Volatility   0.777635  0.781375  0.771681  ...     1.000000    0.777722  0.007469\n",
       "next_close    0.998667  0.998406  0.998426  ...     0.777722    1.000000  0.017541\n",
       "returns       0.020591  0.006226  0.009358  ...     0.007469    0.017541  1.000000\n",
       "\n",
       "[11 rows x 11 columns]"
      ]
     },
     "execution_count": 581,
     "metadata": {},
     "output_type": "execute_result"
    }
   ],
   "source": [
    "df_corr = df[df.columns].corr()\n",
    "df_corr"
   ]
  },
  {
   "cell_type": "code",
   "execution_count": 582,
   "id": "b3facdfc",
   "metadata": {},
   "outputs": [
    {
     "name": "stdout",
     "output_type": "stream",
     "text": [
      "Highest correlation pair: ('high', 'open') with correlation value: 1.00\n"
     ]
    }
   ],
   "source": [
    "def find_highest_correlation_pair(df):\n",
    "    corr_matrix = df.corr()\n",
    "    upper_triangle = corr_matrix.where(np.triu(np.ones(corr_matrix.shape), k=1).astype(bool))\n",
    "    corr_series = upper_triangle.stack()\n",
    "    max_corr_index = corr_series.abs().idxmax()\n",
    "    return max_corr_index, corr_series[max_corr_index]\n",
    "\n",
    "highest_corr_pair, highest_corr_value = find_highest_correlation_pair(df[df_corr.columns])\n",
    "print(f'Highest correlation pair: {highest_corr_pair} with correlation value: {highest_corr_value:.2f}')"
   ]
  },
  {
   "cell_type": "code",
   "execution_count": 566,
   "id": "73013225",
   "metadata": {},
   "outputs": [],
   "source": [
    "x_train, x_test, y_train, y_test = train_test_split(\n",
    "    df[df.columns[:-1]],  \n",
    "    df['next_close'], \n",
    "    test_size=0.2, \n",
    "    shuffle=False\n",
    "    )"
   ]
  },
  {
   "cell_type": "code",
   "execution_count": 567,
   "id": "7ecd8763",
   "metadata": {},
   "outputs": [],
   "source": [
    "lr = LinearRegression()\n",
    "lr.fit(x_train, y_train)\n",
    "y_pred = lr.predict(x_test)"
   ]
  },
  {
   "cell_type": "code",
   "execution_count": 568,
   "id": "c9067eb7",
   "metadata": {},
   "outputs": [
    {
     "name": "stdout",
     "output_type": "stream",
     "text": [
      "Linear Regression Mean Absolute Error: 3.45\n",
      "Linear Regression RMSE: 4.61\n",
      "Linear Regression R^2: 0.87\n"
     ]
    }
   ],
   "source": [
    "abs_mae_lr = mean_absolute_error(y_test, y_pred)\n",
    "rmse_lr = root_mean_squared_error(y_test, y_pred)\n",
    "r2_lr = r2_score(y_test, y_pred)\n",
    "print(f'Linear Regression Mean Absolute Error: {abs_mae_lr:.2f}')\n",
    "print(f'Linear Regression RMSE: {rmse_lr:.2f}')\n",
    "print(f'Linear Regression R^2: {r2_lr:.2f}')"
   ]
  },
  {
   "cell_type": "code",
   "execution_count": 569,
   "id": "b2a48e8a",
   "metadata": {},
   "outputs": [
    {
     "name": "stdout",
     "output_type": "stream",
     "text": [
      "r2 score for training set: 1.00\n",
      "r2 score for test set: 0.87\n"
     ]
    }
   ],
   "source": [
    "# Checking for overfitting\n",
    "act_val = lr.score(x_train, y_train)\n",
    "pred_val = lr.score(x_test, y_test)\n",
    "print(f'r2 score for training set: {act_val:.2f}')\n",
    "print(f'r2 score for test set: {pred_val:.2f}')"
   ]
  },
  {
   "cell_type": "code",
   "execution_count": 570,
   "id": "799a4c20",
   "metadata": {},
   "outputs": [
    {
     "data": {
      "image/png": "[encoded data removed]",
      "text/plain": [
       "<Figure size 1400x700 with 1 Axes>"
      ]
     },
     "metadata": {},
     "output_type": "display_data"
    }
   ],
   "source": [
    "plt.figure(figsize=(14, 7))\n",
    "plt.plot(x_test.index, y_test, label='Actual', color='blue')\n",
    "plt.plot(x_test.index, y_pred, label='Predicted', color='orange')\n",
    "plt.title('Actual vs Predicted Stock Returns')\n",
    "plt.xlabel('Date')\n",
    "plt.ylabel('Stock Returns')\n",
    "plt.legend()\n",
    "plt.grid()"
   ]
  },
  {
   "cell_type": "code",
   "execution_count": 571,
   "id": "d467d1c8",
   "metadata": {},
   "outputs": [
    {
     "data": {
      "text/plain": [
       "Text(0, 0.5, 'Predicted Values')"
      ]
     },
     "execution_count": 571,
     "metadata": {},
     "output_type": "execute_result"
    },
    {
     "data": {
      "image/png": "[encoded data removed]",
      "text/plain": [
       "<Figure size 640x480 with 1 Axes>"
      ]
     },
     "metadata": {},
     "output_type": "display_data"
    }
   ],
   "source": [
    "act_val = lr.score(x_train, y_train)\n",
    "predict_val = lr.score(x_test, y_test)\n",
    "sns.scatterplot(x=y_test, y=y_pred)\n",
    "sns.lineplot(x = np.linspace(y_test.min(), y_test.max(), 100), \n",
    "             y = np.linspace(y_test.min(), y_test.max(), 100), \n",
    "             color='red', linestyle='--')\n",
    "plt.title('Actual vs Predicted Values')\n",
    "plt.xlabel('Actual Values')\n",
    "plt.ylabel('Predicted Values')"
   ]
  },
  {
   "cell_type": "code",
   "execution_count": 572,
   "id": "91266b24",
   "metadata": {},
   "outputs": [
    {
     "data": {
      "text/plain": [
       "Text(0, 0.5, 'Residuals')"
      ]
     },
     "execution_count": 572,
     "metadata": {},
     "output_type": "execute_result"
    },
    {
     "data": {
      "image/png": "[encoded data removed]",
      "text/plain": [
       "<Figure size 1400x700 with 1 Axes>"
      ]
     },
     "metadata": {},
     "output_type": "display_data"
    }
   ],
   "source": [
    "residuals = y_test - y_pred\n",
    "plt.figure(figsize=(14, 7))\n",
    "sns.scatterplot(x=y_pred, y=residuals)\n",
    "plt.axhline(0, color='red', linestyle='--')\n",
    "plt.title('Residuals vs Predicted Values')\n",
    "plt.xlabel('Predicted Values')\n",
    "plt.ylabel('Residuals')"
   ]
  },
  {
   "cell_type": "code",
   "execution_count": 573,
   "id": "3b5f1a62",
   "metadata": {},
   "outputs": [
    {
     "data": {
      "text/plain": [
       "<Figure size 1400x700 with 0 Axes>"
      ]
     },
     "execution_count": 573,
     "metadata": {},
     "output_type": "execute_result"
    },
    {
     "data": {
      "image/png": "[encoded data removed]",
      "text/plain": [
       "<Figure size 640x480 with 1 Axes>"
      ]
     },
     "metadata": {},
     "output_type": "display_data"
    },
    {
     "data": {
      "text/plain": [
       "<Figure size 1400x700 with 0 Axes>"
      ]
     },
     "metadata": {},
     "output_type": "display_data"
    }
   ],
   "source": [
    "sns.histplot(residuals, bins=30, kde=True)\n",
    "plt.title('Residuals Distribution')\n",
    "plt.xlabel('Residuals')\n",
    "plt.ylabel('Frequency')\n",
    "plt.figure(figsize=(14, 7))\n"
   ]
  },
  {
   "cell_type": "code",
   "execution_count": 574,
   "id": "9c136224",
   "metadata": {},
   "outputs": [
    {
     "data": {
      "text/plain": [
       "Text(0, 0.5, 'Sample Quantiles')"
      ]
     },
     "execution_count": 574,
     "metadata": {},
     "output_type": "execute_result"
    },
    {
     "data": {
      "image/png": "[encoded data removed]",
      "text/plain": [
       "<Figure size 640x480 with 1 Axes>"
      ]
     },
     "metadata": {},
     "output_type": "display_data"
    }
   ],
   "source": [
    "sm.qqplot(residuals, line='s')\n",
    "plt.title('Q-Q Plot of Residuals')\n",
    "plt.xlabel('Theoretical Quantiles')\n",
    "plt.ylabel('Sample Quantiles')"
   ]
  },
  {
   "cell_type": "code",
   "execution_count": 575,
   "id": "af787c85",
   "metadata": {},
   "outputs": [
    {
     "name": "stdout",
     "output_type": "stream",
     "text": [
      "                            OLS Regression Results                            \n",
      "==============================================================================\n",
      "Dep. Variable:             next_close   R-squared:                       0.997\n",
      "Model:                            OLS   Adj. R-squared:                  0.997\n",
      "Method:                 Least Squares   F-statistic:                 3.446e+04\n",
      "Date:                Sat, 31 May 2025   Prob (F-statistic):               0.00\n",
      "Time:                        21:36:46   Log-Likelihood:                -1589.8\n",
      "No. Observations:                1008   AIC:                             3200.\n",
      "Df Residuals:                     998   BIC:                             3249.\n",
      "Df Model:                           9                                         \n",
      "Covariance Type:            nonrobust                                         \n",
      "================================================================================\n",
      "                   coef    std err          t      P>|t|      [0.025      0.975]\n",
      "--------------------------------------------------------------------------------\n",
      "const           -0.0228      0.129     -0.177      0.859      -0.276       0.230\n",
      "close            4.7106      1.435      3.283      0.001       1.895       7.527\n",
      "high             0.7652      0.099      7.718      0.000       0.571       0.960\n",
      "low              0.7326      0.085      8.606      0.000       0.566       0.900\n",
      "open            -0.4915      0.100     -4.892      0.000      -0.689      -0.294\n",
      "volume       -1.615e-10   2.62e-10     -0.616      0.538   -6.76e-10    3.53e-10\n",
      "5MA_Returns      0.5218      0.714      0.731      0.465      -0.880       1.924\n",
      "15MA_Returns    -0.0027      0.387     -0.007      0.994      -0.762       0.757\n",
      "50MA_Returns    -0.1401      0.200     -0.699      0.484      -0.533       0.253\n",
      "5Volatility      0.0534      0.083      0.646      0.518      -0.109       0.215\n",
      "==============================================================================\n",
      "Omnibus:                      458.160   Durbin-Watson:                   1.913\n",
      "Prob(Omnibus):                  0.000   Jarque-Bera (JB):            15284.166\n",
      "Skew:                           1.431   Prob(JB):                         0.00\n",
      "Kurtosis:                      21.860   Cond. No.                     1.91e+10\n",
      "==============================================================================\n",
      "\n",
      "Notes:\n",
      "[1] Standard Errors assume that the covariance matrix of the errors is correctly specified.\n",
      "[2] The condition number is large, 1.91e+10. This might indicate that there are\n",
      "strong multicollinearity or other numerical problems.\n"
     ]
    }
   ],
   "source": [
    "OLS_model = OLS(y_train, sm.add_constant(x_train)).fit()\n",
    "print(OLS_model.summary())"
   ]
  },
  {
   "cell_type": "code",
   "execution_count": 583,
   "id": "2686b8a5",
   "metadata": {},
   "outputs": [
    {
     "data": {
      "application/vnd.microsoft.datawrangler.viewer.v0+json": {
       "columns": [
        {
         "name": "Date",
         "rawType": "datetime64[ns]",
         "type": "datetime"
        },
        {
         "name": "close",
         "rawType": "float64",
         "type": "float"
        },
        {
         "name": "returns",
         "rawType": "float64",
         "type": "float"
        }
       ],
       "ref": "bbf9e0dd-9c04-447c-9d8c-906ff38be37c",
       "rows": [
        [
         "2020-05-26 00:00:00",
         "8.685748100280762",
         "-0.03417827443086496"
        ],
        [
         "2020-05-27 00:00:00",
         "8.493955612182617",
         "-0.022081286019789648"
        ],
        [
         "2020-05-28 00:00:00",
         "8.45584487915039",
         "-0.004486806238728769"
        ],
        [
         "2020-05-29 00:00:00",
         "8.842921257019043",
         "0.04577619190047688"
        ],
        [
         "2020-06-01 00:00:00",
         "8.773924827575684",
         "-0.007802447566588211"
        ],
        [
         "2020-06-02 00:00:00",
         "8.792856216430664",
         "0.0021576876058342354"
        ],
        [
         "2020-06-03 00:00:00",
         "8.737309455871582",
         "-0.006317260193028695"
        ],
        [
         "2020-06-04 00:00:00",
         "8.738304138183594",
         "0.00011384309060313846"
        ],
        [
         "2020-06-05 00:00:00",
         "8.891312599182129",
         "0.01751008646287988"
        ],
        [
         "2020-06-08 00:00:00",
         "8.776681900024414",
         "-0.01289243830750697"
        ],
        [
         "2020-06-09 00:00:00",
         "9.016908645629883",
         "0.02737102111502998"
        ],
        [
         "2020-06-10 00:00:00",
         "9.336625099182129",
         "0.03545743514959532"
        ],
        [
         "2020-06-11 00:00:00",
         "8.767963409423828",
         "-0.060906557103606374"
        ],
        [
         "2020-06-12 00:00:00",
         "8.90377140045166",
         "0.015489114710705243"
        ],
        [
         "2020-06-15 00:00:00",
         "9.144245147705078",
         "0.027008077413265497"
        ],
        [
         "2020-06-16 00:00:00",
         "9.039334297180176",
         "-0.011472882543096752"
        ],
        [
         "2020-06-17 00:00:00",
         "9.20629596710205",
         "0.018470571441744132"
        ],
        [
         "2020-06-18 00:00:00",
         "9.188355445861816",
         "-0.0019487230591264115"
        ],
        [
         "2020-06-19 00:00:00",
         "9.231463432312012",
         "0.004691588903388499"
        ],
        [
         "2020-06-22 00:00:00",
         "9.496111869812012",
         "0.028668091407227703"
        ],
        [
         "2020-06-23 00:00:00",
         "9.419610977172852",
         "-0.00805602268464789"
        ],
        [
         "2020-06-24 00:00:00",
         "9.20579719543457",
         "-0.0226987910919495"
        ],
        [
         "2020-06-25 00:00:00",
         "9.459481239318848",
         "0.0275569881128912"
        ],
        [
         "2020-06-26 00:00:00",
         "9.125557899475098",
         "-0.03530038607780939"
        ],
        [
         "2020-06-29 00:00:00",
         "9.170412063598633",
         "0.004915224320270362"
        ],
        [
         "2020-06-30 00:00:00",
         "9.467204093933105",
         "0.032364088797336654"
        ],
        [
         "2020-07-01 00:00:00",
         "9.499350547790527",
         "0.003395559400480419"
        ],
        [
         "2020-07-02 00:00:00",
         "9.581336975097656",
         "0.008630740269522708"
        ],
        [
         "2020-07-06 00:00:00",
         "9.80760669708252",
         "0.02361567311252588"
        ],
        [
         "2020-07-07 00:00:00",
         "9.840002059936523",
         "0.0033030854371067786"
        ],
        [
         "2020-07-08 00:00:00",
         "10.18314266204834",
         "0.034872005109522375"
        ],
        [
         "2020-07-09 00:00:00",
         "10.475200653076172",
         "0.028680536129215284"
        ],
        [
         "2020-07-10 00:00:00",
         "10.445548057556152",
         "-0.0028307424842799467"
        ],
        [
         "2020-07-13 00:00:00",
         "10.019922256469727",
         "-0.04074710094110712"
        ],
        [
         "2020-07-14 00:00:00",
         "10.343626022338867",
         "0.032306015713857494"
        ],
        [
         "2020-07-15 00:00:00",
         "10.194356918334961",
         "-0.014431022900628254"
        ],
        [
         "2020-07-16 00:00:00",
         "10.102155685424805",
         "-0.00904434028048684"
        ],
        [
         "2020-07-17 00:00:00",
         "10.16868782043457",
         "0.006585934436325935"
        ],
        [
         "2020-07-20 00:00:00",
         "10.476947784423828",
         "0.03031462558716691"
        ],
        [
         "2020-07-21 00:00:00",
         "10.295282363891602",
         "-0.01733953669238575"
        ],
        [
         "2020-07-22 00:00:00",
         "10.40517807006836",
         "0.010674375145085069"
        ],
        [
         "2020-07-23 00:00:00",
         "10.09717082977295",
         "-0.02960134254515323"
        ],
        [
         "2020-07-24 00:00:00",
         "10.161711692810059",
         "0.006391974952706603"
        ],
        [
         "2020-07-27 00:00:00",
         "10.387983322143555",
         "0.022267078241709592"
        ],
        [
         "2020-07-28 00:00:00",
         "10.182644844055176",
         "-0.01976692411997516"
        ],
        [
         "2020-07-29 00:00:00",
         "10.431842803955078",
         "0.024472812684357637"
        ],
        [
         "2020-07-30 00:00:00",
         "10.579867362976074",
         "0.014189684584287932"
        ],
        [
         "2020-07-31 00:00:00",
         "10.580613136291504",
         "7.048985491442394e-05"
        ],
        [
         "2020-08-03 00:00:00",
         "10.974842071533203",
         "0.0372595548257495"
        ],
        [
         "2020-08-04 00:00:00",
         "11.19163703918457",
         "0.01975381205837068"
        ]
       ],
       "shape": {
        "columns": 2,
        "rows": 1260
       }
      },
      "text/html": [
       "<div>\n",
       "<style scoped>\n",
       "    .dataframe tbody tr th:only-of-type {\n",
       "        vertical-align: middle;\n",
       "    }\n",
       "\n",
       "    .dataframe tbody tr th {\n",
       "        vertical-align: top;\n",
       "    }\n",
       "\n",
       "    .dataframe thead th {\n",
       "        text-align: right;\n",
       "    }\n",
       "</style>\n",
       "<table border=\"1\" class=\"dataframe\">\n",
       "  <thead>\n",
       "    <tr style=\"text-align: right;\">\n",
       "      <th></th>\n",
       "      <th>close</th>\n",
       "      <th>returns</th>\n",
       "    </tr>\n",
       "    <tr>\n",
       "      <th>Date</th>\n",
       "      <th></th>\n",
       "      <th></th>\n",
       "    </tr>\n",
       "  </thead>\n",
       "  <tbody>\n",
       "    <tr>\n",
       "      <th>2020-05-26</th>\n",
       "      <td>8.685748</td>\n",
       "      <td>-0.034178</td>\n",
       "    </tr>\n",
       "    <tr>\n",
       "      <th>2020-05-27</th>\n",
       "      <td>8.493956</td>\n",
       "      <td>-0.022081</td>\n",
       "    </tr>\n",
       "    <tr>\n",
       "      <th>2020-05-28</th>\n",
       "      <td>8.455845</td>\n",
       "      <td>-0.004487</td>\n",
       "    </tr>\n",
       "    <tr>\n",
       "      <th>2020-05-29</th>\n",
       "      <td>8.842921</td>\n",
       "      <td>0.045776</td>\n",
       "    </tr>\n",
       "    <tr>\n",
       "      <th>2020-06-01</th>\n",
       "      <td>8.773925</td>\n",
       "      <td>-0.007802</td>\n",
       "    </tr>\n",
       "    <tr>\n",
       "      <th>...</th>\n",
       "      <td>...</td>\n",
       "      <td>...</td>\n",
       "    </tr>\n",
       "    <tr>\n",
       "      <th>2025-05-22</th>\n",
       "      <td>132.830002</td>\n",
       "      <td>0.007815</td>\n",
       "    </tr>\n",
       "    <tr>\n",
       "      <th>2025-05-23</th>\n",
       "      <td>131.289993</td>\n",
       "      <td>-0.011594</td>\n",
       "    </tr>\n",
       "    <tr>\n",
       "      <th>2025-05-27</th>\n",
       "      <td>135.500000</td>\n",
       "      <td>0.032066</td>\n",
       "    </tr>\n",
       "    <tr>\n",
       "      <th>2025-05-28</th>\n",
       "      <td>134.809998</td>\n",
       "      <td>-0.005092</td>\n",
       "    </tr>\n",
       "    <tr>\n",
       "      <th>2025-05-29</th>\n",
       "      <td>139.190002</td>\n",
       "      <td>0.032490</td>\n",
       "    </tr>\n",
       "  </tbody>\n",
       "</table>\n",
       "<p>1260 rows × 2 columns</p>\n",
       "</div>"
      ],
      "text/plain": [
       "                 close   returns\n",
       "Date                            \n",
       "2020-05-26    8.685748 -0.034178\n",
       "2020-05-27    8.493956 -0.022081\n",
       "2020-05-28    8.455845 -0.004487\n",
       "2020-05-29    8.842921  0.045776\n",
       "2020-06-01    8.773925 -0.007802\n",
       "...                ...       ...\n",
       "2025-05-22  132.830002  0.007815\n",
       "2025-05-23  131.289993 -0.011594\n",
       "2025-05-27  135.500000  0.032066\n",
       "2025-05-28  134.809998 -0.005092\n",
       "2025-05-29  139.190002  0.032490\n",
       "\n",
       "[1260 rows x 2 columns]"
      ]
     },
     "execution_count": 583,
     "metadata": {},
     "output_type": "execute_result"
    }
   ],
   "source": [
    "df_new = df[['close', 'returns']]\n",
    "df_new "
   ]
  },
  {
   "cell_type": "code",
   "execution_count": null,
   "id": "18c5be2b",
   "metadata": {},
   "outputs": [
    {
     "name": "stdout",
     "output_type": "stream",
     "text": [
      "ADF Statistic: -21.75\n",
      "p-value: 0.0000\n",
      "The time series is stationary.\n",
      "ACF Values: [ 1.         -0.05153905  0.0157884  -0.05469285 -0.02059184  0.01192793\n",
      "  0.04198636  0.01810121  0.00676852  0.03877716 -0.04241648  0.03266341\n",
      "  0.00772333  0.00395248 -0.05644609 -0.01526826  0.01759118 -0.05302091\n",
      "  0.03037229  0.00522825  0.04746011]\n",
      "PACF Values: [ 1.00000000e+00 -5.15799874e-02  1.31880954e-02 -5.34898222e-02\n",
      " -2.64843579e-02  1.10697481e-02  4.12736552e-02  1.97860474e-02\n",
      "  8.49132150e-03  4.48019696e-02 -3.50916876e-02  2.87901929e-02\n",
      "  1.46692358e-02  2.31696149e-04 -5.85061980e-02 -2.19263556e-02\n",
      "  1.92112079e-02 -6.08510433e-02  1.71956029e-02  1.43031647e-02\n",
      "  4.54906148e-02]\n"
     ]
    }
   ],
   "source": [
    "adfuller_result = adfuller(df_new['returns'])"
   ]
  },
  {
   "cell_type": "code",
   "execution_count": 511,
   "id": "1231185e",
   "metadata": {},
   "outputs": [],
   "source": [
    "#TODO 7: Create buy and sell signals based on predictions"
   ]
  },
  {
   "cell_type": "code",
   "execution_count": 488,
   "id": "569f7871",
   "metadata": {},
   "outputs": [],
   "source": [
    "#TODO 8: Visualize the buy and sell signals on the stock price chart"
   ]
  },
  {
   "cell_type": "code",
   "execution_count": 489,
   "id": "f06eebb9",
   "metadata": {},
   "outputs": [],
   "source": [
    "#TODO 9: Evaluate the model's performance using Sharpe Ratio, total return vs buy and hold strategy."
   ]
  },
  {
   "cell_type": "code",
   "execution_count": 490,
   "id": "c26242a5",
   "metadata": {},
   "outputs": [],
   "source": [
    "#TODO 10: Using the buy and sell signals to send orders to the broker"
   ]
  }
 ],
 "metadata": {
  "kernelspec": {
   "display_name": "blackwell",
   "language": "python",
   "name": "python3"
  },
  "language_info": {
   "codemirror_mode": {
    "name": "ipython",
    "version": 3
   },
   "file_extension": ".py",
   "mimetype": "text/x-python",
   "name": "python",
   "nbconvert_exporter": "python",
   "pygments_lexer": "ipython3",
   "version": "3.9.19"
  }
 },
 "nbformat": 4,
 "nbformat_minor": 5
}
